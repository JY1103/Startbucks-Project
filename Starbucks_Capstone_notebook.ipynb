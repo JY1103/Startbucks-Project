{
 "cells": [
  {
   "cell_type": "markdown",
   "metadata": {},
   "source": [
    "# Starbucks Capstone Challenge\n",
    "\n",
    "### Introduction\n",
    "\n",
    "This data set contains simulated data that mimics customer behavior on the Starbucks rewards mobile app. Once every few days, Starbucks sends out an offer to users of the mobile app. An offer can be merely an advertisement for a drink or an actual offer such as a discount or BOGO (buy one get one free). Some users might not receive any offer during certain weeks. \n",
    "\n",
    "Not all users receive the same offer, and that is the challenge to solve with this data set.\n",
    "\n",
    "Your task is to combine transaction, demographic and offer data to determine which demographic groups respond best to which offer type. This data set is a simplified version of the real Starbucks app because the underlying simulator only has one product whereas Starbucks actually sells dozens of products.\n",
    "\n",
    "Every offer has a validity period before the offer expires. As an example, a BOGO offer might be valid for only 5 days. You'll see in the data set that informational offers have a validity period even though these ads are merely providing information about a product; for example, if an informational offer has 7 days of validity, you can assume the customer is feeling the influence of the offer for 7 days after receiving the advertisement.\n",
    "\n",
    "You'll be given transactional data showing user purchases made on the app including the timestamp of purchase and the amount of money spent on a purchase. This transactional data also has a record for each offer that a user receives as well as a record for when a user actually views the offer. There are also records for when a user completes an offer. \n",
    "\n",
    "Keep in mind as well that someone using the app might make a purchase through the app without having received an offer or seen an offer.\n",
    "\n",
    "### Example\n",
    "\n",
    "To give an example, a user could receive a discount offer buy 10 dollars get 2 off on Monday. The offer is valid for 10 days from receipt. If the customer accumulates at least 10 dollars in purchases during the validity period, the customer completes the offer.\n",
    "\n",
    "However, there are a few things to watch out for in this data set. Customers do not opt into the offers that they receive; in other words, a user can receive an offer, never actually view the offer, and still complete the offer. For example, a user might receive the \"buy 10 dollars get 2 dollars off offer\", but the user never opens the offer during the 10 day validity period. The customer spends 15 dollars during those ten days. There will be an offer completion record in the data set; however, the customer was not influenced by the offer because the customer never viewed the offer.\n",
    "\n",
    "### Cleaning\n",
    "\n",
    "This makes data cleaning especially important and tricky.\n",
    "\n",
    "You'll also want to take into account that some demographic groups will make purchases even if they don't receive an offer. From a business perspective, if a customer is going to make a 10 dollar purchase without an offer anyway, you wouldn't want to send a buy 10 dollars get 2 dollars off offer. You'll want to try to assess what a certain demographic group will buy when not receiving any offers.\n",
    "\n",
    "### Final Advice\n",
    "\n",
    "Because this is a capstone project, you are free to analyze the data any way you see fit. For example, you could build a machine learning model that predicts how much someone will spend based on demographics and offer type. Or you could build a model that predicts whether or not someone will respond to an offer. Or, you don't need to build a machine learning model at all. You could develop a set of heuristics that determine what offer you should send to each customer (ie 75 percent of women customers who were 35 years old responded to offer A vs 40 percent from the same demographic to offer B, so send offer A)."
   ]
  },
  {
   "cell_type": "markdown",
   "metadata": {},
   "source": [
    "# Data Sets\n",
    "\n",
    "The data is contained in three files:\n",
    "\n",
    "* portfolio.json - containing offer ids and meta data about each offer (duration, type, etc.)\n",
    "* profile.json - demographic data for each customer\n",
    "* transcript.json - records for transactions, offers received, offers viewed, and offers completed\n",
    "\n",
    "Here is the schema and explanation of each variable in the files:\n",
    "\n",
    "**portfolio.json**\n",
    "* id (string) - offer id\n",
    "* offer_type (string) - type of offer ie BOGO, discount, informational\n",
    "* difficulty (int) - minimum required spend to complete an offer\n",
    "* reward (int) - reward given for completing an offer\n",
    "* duration (int) - \n",
    "* channels (list of strings)\n",
    "\n",
    "**profile.json**\n",
    "* age (int) - age of the customer \n",
    "* became_member_on (int) - date when customer created an app account\n",
    "* gender (str) - gender of the customer (note some entries contain 'O' for other rather than M or F)\n",
    "* id (str) - customer id\n",
    "* income (float) - customer's income\n",
    "\n",
    "**transcript.json**\n",
    "* event (str) - record description (ie transaction, offer received, offer viewed, etc.)\n",
    "* person (str) - customer id\n",
    "* time (int) - time in hours. The data begins at time t=0\n",
    "* value - (dict of strings) - either an offer id or transaction amount depending on the record\n",
    "\n",
    "**Note:** If you are using the workspace, you will need to go to the terminal and run the command `conda update pandas` before reading in the files. This is because the version of pandas in the workspace cannot read in the transcript.json file correctly, but the newest version of pandas can. You can access the termnal from the orange icon in the top left of this notebook.  \n",
    "\n",
    "You can see how to access the terminal and how the install works using the two images below.  First you need to access the terminal:\n",
    "\n",
    "<img src=\"pic1.png\"/>\n",
    "\n",
    "Then you will want to run the above command:\n",
    "\n",
    "<img src=\"pic2.png\"/>\n",
    "\n",
    "Finally, when you enter back into the notebook (use the jupyter icon again), you should be able to run the below cell without any errors."
   ]
  },
  {
   "cell_type": "code",
   "execution_count": 26,
   "metadata": {},
   "outputs": [],
   "source": [
    "import pandas as pd\n",
    "import numpy as np\n",
    "import math\n",
    "import json\n",
    "import matplotlib.pyplot as plt\n",
    "% matplotlib inline\n",
    "\n",
    "# read in the json files\n",
    "portfolio = pd.read_json('data/portfolio.json', orient='records', lines=True)\n",
    "profile = pd.read_json('data/profile.json', orient='records', lines=True)\n",
    "transcript = pd.read_json('data/transcript.json', orient='records', lines=True)"
   ]
  },
  {
   "cell_type": "markdown",
   "metadata": {},
   "source": [
    "## 1. Data Exploration & Preprocess"
   ]
  },
  {
   "cell_type": "code",
   "execution_count": 27,
   "metadata": {},
   "outputs": [
    {
     "name": "stdout",
     "output_type": "stream",
     "text": [
      "(10, 6) (17000, 5) (306534, 4)\n"
     ]
    }
   ],
   "source": [
    "print (portfolio.shape, profile.shape,transcript.shape)"
   ]
  },
  {
   "cell_type": "code",
   "execution_count": 28,
   "metadata": {
    "scrolled": false
   },
   "outputs": [
    {
     "data": {
      "text/html": [
       "<div>\n",
       "<style scoped>\n",
       "    .dataframe tbody tr th:only-of-type {\n",
       "        vertical-align: middle;\n",
       "    }\n",
       "\n",
       "    .dataframe tbody tr th {\n",
       "        vertical-align: top;\n",
       "    }\n",
       "\n",
       "    .dataframe thead th {\n",
       "        text-align: right;\n",
       "    }\n",
       "</style>\n",
       "<table border=\"1\" class=\"dataframe\">\n",
       "  <thead>\n",
       "    <tr style=\"text-align: right;\">\n",
       "      <th></th>\n",
       "      <th>channels</th>\n",
       "      <th>difficulty</th>\n",
       "      <th>duration</th>\n",
       "      <th>id</th>\n",
       "      <th>offer_type</th>\n",
       "      <th>reward</th>\n",
       "    </tr>\n",
       "  </thead>\n",
       "  <tbody>\n",
       "    <tr>\n",
       "      <th>0</th>\n",
       "      <td>[email, mobile, social]</td>\n",
       "      <td>10</td>\n",
       "      <td>7</td>\n",
       "      <td>ae264e3637204a6fb9bb56bc8210ddfd</td>\n",
       "      <td>bogo</td>\n",
       "      <td>10</td>\n",
       "    </tr>\n",
       "    <tr>\n",
       "      <th>1</th>\n",
       "      <td>[web, email, mobile, social]</td>\n",
       "      <td>10</td>\n",
       "      <td>5</td>\n",
       "      <td>4d5c57ea9a6940dd891ad53e9dbe8da0</td>\n",
       "      <td>bogo</td>\n",
       "      <td>10</td>\n",
       "    </tr>\n",
       "    <tr>\n",
       "      <th>2</th>\n",
       "      <td>[web, email, mobile]</td>\n",
       "      <td>0</td>\n",
       "      <td>4</td>\n",
       "      <td>3f207df678b143eea3cee63160fa8bed</td>\n",
       "      <td>informational</td>\n",
       "      <td>0</td>\n",
       "    </tr>\n",
       "    <tr>\n",
       "      <th>3</th>\n",
       "      <td>[web, email, mobile]</td>\n",
       "      <td>5</td>\n",
       "      <td>7</td>\n",
       "      <td>9b98b8c7a33c4b65b9aebfe6a799e6d9</td>\n",
       "      <td>bogo</td>\n",
       "      <td>5</td>\n",
       "    </tr>\n",
       "    <tr>\n",
       "      <th>4</th>\n",
       "      <td>[web, email]</td>\n",
       "      <td>20</td>\n",
       "      <td>10</td>\n",
       "      <td>0b1e1539f2cc45b7b9fa7c272da2e1d7</td>\n",
       "      <td>discount</td>\n",
       "      <td>5</td>\n",
       "    </tr>\n",
       "    <tr>\n",
       "      <th>5</th>\n",
       "      <td>[web, email, mobile, social]</td>\n",
       "      <td>7</td>\n",
       "      <td>7</td>\n",
       "      <td>2298d6c36e964ae4a3e7e9706d1fb8c2</td>\n",
       "      <td>discount</td>\n",
       "      <td>3</td>\n",
       "    </tr>\n",
       "    <tr>\n",
       "      <th>6</th>\n",
       "      <td>[web, email, mobile, social]</td>\n",
       "      <td>10</td>\n",
       "      <td>10</td>\n",
       "      <td>fafdcd668e3743c1bb461111dcafc2a4</td>\n",
       "      <td>discount</td>\n",
       "      <td>2</td>\n",
       "    </tr>\n",
       "    <tr>\n",
       "      <th>7</th>\n",
       "      <td>[email, mobile, social]</td>\n",
       "      <td>0</td>\n",
       "      <td>3</td>\n",
       "      <td>5a8bc65990b245e5a138643cd4eb9837</td>\n",
       "      <td>informational</td>\n",
       "      <td>0</td>\n",
       "    </tr>\n",
       "    <tr>\n",
       "      <th>8</th>\n",
       "      <td>[web, email, mobile, social]</td>\n",
       "      <td>5</td>\n",
       "      <td>5</td>\n",
       "      <td>f19421c1d4aa40978ebb69ca19b0e20d</td>\n",
       "      <td>bogo</td>\n",
       "      <td>5</td>\n",
       "    </tr>\n",
       "    <tr>\n",
       "      <th>9</th>\n",
       "      <td>[web, email, mobile]</td>\n",
       "      <td>10</td>\n",
       "      <td>7</td>\n",
       "      <td>2906b810c7d4411798c6938adc9daaa5</td>\n",
       "      <td>discount</td>\n",
       "      <td>2</td>\n",
       "    </tr>\n",
       "  </tbody>\n",
       "</table>\n",
       "</div>"
      ],
      "text/plain": [
       "                       channels  difficulty  duration  \\\n",
       "0       [email, mobile, social]          10         7   \n",
       "1  [web, email, mobile, social]          10         5   \n",
       "2          [web, email, mobile]           0         4   \n",
       "3          [web, email, mobile]           5         7   \n",
       "4                  [web, email]          20        10   \n",
       "5  [web, email, mobile, social]           7         7   \n",
       "6  [web, email, mobile, social]          10        10   \n",
       "7       [email, mobile, social]           0         3   \n",
       "8  [web, email, mobile, social]           5         5   \n",
       "9          [web, email, mobile]          10         7   \n",
       "\n",
       "                                 id     offer_type  reward  \n",
       "0  ae264e3637204a6fb9bb56bc8210ddfd           bogo      10  \n",
       "1  4d5c57ea9a6940dd891ad53e9dbe8da0           bogo      10  \n",
       "2  3f207df678b143eea3cee63160fa8bed  informational       0  \n",
       "3  9b98b8c7a33c4b65b9aebfe6a799e6d9           bogo       5  \n",
       "4  0b1e1539f2cc45b7b9fa7c272da2e1d7       discount       5  \n",
       "5  2298d6c36e964ae4a3e7e9706d1fb8c2       discount       3  \n",
       "6  fafdcd668e3743c1bb461111dcafc2a4       discount       2  \n",
       "7  5a8bc65990b245e5a138643cd4eb9837  informational       0  \n",
       "8  f19421c1d4aa40978ebb69ca19b0e20d           bogo       5  \n",
       "9  2906b810c7d4411798c6938adc9daaa5       discount       2  "
      ]
     },
     "execution_count": 28,
     "metadata": {},
     "output_type": "execute_result"
    }
   ],
   "source": [
    "portfolio"
   ]
  },
  {
   "cell_type": "code",
   "execution_count": 4,
   "metadata": {
    "scrolled": true
   },
   "outputs": [
    {
     "data": {
      "text/html": [
       "<div>\n",
       "<style scoped>\n",
       "    .dataframe tbody tr th:only-of-type {\n",
       "        vertical-align: middle;\n",
       "    }\n",
       "\n",
       "    .dataframe tbody tr th {\n",
       "        vertical-align: top;\n",
       "    }\n",
       "\n",
       "    .dataframe thead th {\n",
       "        text-align: right;\n",
       "    }\n",
       "</style>\n",
       "<table border=\"1\" class=\"dataframe\">\n",
       "  <thead>\n",
       "    <tr style=\"text-align: right;\">\n",
       "      <th></th>\n",
       "      <th>age</th>\n",
       "      <th>became_member_on</th>\n",
       "      <th>gender</th>\n",
       "      <th>id</th>\n",
       "      <th>income</th>\n",
       "    </tr>\n",
       "  </thead>\n",
       "  <tbody>\n",
       "    <tr>\n",
       "      <th>0</th>\n",
       "      <td>118</td>\n",
       "      <td>20170212</td>\n",
       "      <td>None</td>\n",
       "      <td>68be06ca386d4c31939f3a4f0e3dd783</td>\n",
       "      <td>NaN</td>\n",
       "    </tr>\n",
       "    <tr>\n",
       "      <th>1</th>\n",
       "      <td>55</td>\n",
       "      <td>20170715</td>\n",
       "      <td>F</td>\n",
       "      <td>0610b486422d4921ae7d2bf64640c50b</td>\n",
       "      <td>112000.0</td>\n",
       "    </tr>\n",
       "    <tr>\n",
       "      <th>2</th>\n",
       "      <td>118</td>\n",
       "      <td>20180712</td>\n",
       "      <td>None</td>\n",
       "      <td>38fe809add3b4fcf9315a9694bb96ff5</td>\n",
       "      <td>NaN</td>\n",
       "    </tr>\n",
       "    <tr>\n",
       "      <th>3</th>\n",
       "      <td>75</td>\n",
       "      <td>20170509</td>\n",
       "      <td>F</td>\n",
       "      <td>78afa995795e4d85b5d9ceeca43f5fef</td>\n",
       "      <td>100000.0</td>\n",
       "    </tr>\n",
       "    <tr>\n",
       "      <th>4</th>\n",
       "      <td>118</td>\n",
       "      <td>20170804</td>\n",
       "      <td>None</td>\n",
       "      <td>a03223e636434f42ac4c3df47e8bac43</td>\n",
       "      <td>NaN</td>\n",
       "    </tr>\n",
       "  </tbody>\n",
       "</table>\n",
       "</div>"
      ],
      "text/plain": [
       "   age  became_member_on gender                                id    income\n",
       "0  118          20170212   None  68be06ca386d4c31939f3a4f0e3dd783       NaN\n",
       "1   55          20170715      F  0610b486422d4921ae7d2bf64640c50b  112000.0\n",
       "2  118          20180712   None  38fe809add3b4fcf9315a9694bb96ff5       NaN\n",
       "3   75          20170509      F  78afa995795e4d85b5d9ceeca43f5fef  100000.0\n",
       "4  118          20170804   None  a03223e636434f42ac4c3df47e8bac43       NaN"
      ]
     },
     "execution_count": 4,
     "metadata": {},
     "output_type": "execute_result"
    }
   ],
   "source": [
    "profile.head()"
   ]
  },
  {
   "cell_type": "code",
   "execution_count": 5,
   "metadata": {},
   "outputs": [
    {
     "data": {
      "text/html": [
       "<div>\n",
       "<style scoped>\n",
       "    .dataframe tbody tr th:only-of-type {\n",
       "        vertical-align: middle;\n",
       "    }\n",
       "\n",
       "    .dataframe tbody tr th {\n",
       "        vertical-align: top;\n",
       "    }\n",
       "\n",
       "    .dataframe thead th {\n",
       "        text-align: right;\n",
       "    }\n",
       "</style>\n",
       "<table border=\"1\" class=\"dataframe\">\n",
       "  <thead>\n",
       "    <tr style=\"text-align: right;\">\n",
       "      <th></th>\n",
       "      <th>age</th>\n",
       "      <th>became_member_on</th>\n",
       "      <th>gender</th>\n",
       "      <th>id</th>\n",
       "      <th>income</th>\n",
       "    </tr>\n",
       "  </thead>\n",
       "  <tbody>\n",
       "    <tr>\n",
       "      <th>0</th>\n",
       "      <td>118</td>\n",
       "      <td>1.486858e+09</td>\n",
       "      <td>None</td>\n",
       "      <td>68be06ca386d4c31939f3a4f0e3dd783</td>\n",
       "      <td>NaN</td>\n",
       "    </tr>\n",
       "    <tr>\n",
       "      <th>1</th>\n",
       "      <td>55</td>\n",
       "      <td>1.500077e+09</td>\n",
       "      <td>F</td>\n",
       "      <td>0610b486422d4921ae7d2bf64640c50b</td>\n",
       "      <td>112000.0</td>\n",
       "    </tr>\n",
       "    <tr>\n",
       "      <th>2</th>\n",
       "      <td>118</td>\n",
       "      <td>1.531354e+09</td>\n",
       "      <td>None</td>\n",
       "      <td>38fe809add3b4fcf9315a9694bb96ff5</td>\n",
       "      <td>NaN</td>\n",
       "    </tr>\n",
       "    <tr>\n",
       "      <th>3</th>\n",
       "      <td>75</td>\n",
       "      <td>1.494288e+09</td>\n",
       "      <td>F</td>\n",
       "      <td>78afa995795e4d85b5d9ceeca43f5fef</td>\n",
       "      <td>100000.0</td>\n",
       "    </tr>\n",
       "    <tr>\n",
       "      <th>4</th>\n",
       "      <td>118</td>\n",
       "      <td>1.501805e+09</td>\n",
       "      <td>None</td>\n",
       "      <td>a03223e636434f42ac4c3df47e8bac43</td>\n",
       "      <td>NaN</td>\n",
       "    </tr>\n",
       "  </tbody>\n",
       "</table>\n",
       "</div>"
      ],
      "text/plain": [
       "   age  became_member_on gender                                id    income\n",
       "0  118      1.486858e+09   None  68be06ca386d4c31939f3a4f0e3dd783       NaN\n",
       "1   55      1.500077e+09      F  0610b486422d4921ae7d2bf64640c50b  112000.0\n",
       "2  118      1.531354e+09   None  38fe809add3b4fcf9315a9694bb96ff5       NaN\n",
       "3   75      1.494288e+09      F  78afa995795e4d85b5d9ceeca43f5fef  100000.0\n",
       "4  118      1.501805e+09   None  a03223e636434f42ac4c3df47e8bac43       NaN"
      ]
     },
     "execution_count": 5,
     "metadata": {},
     "output_type": "execute_result"
    }
   ],
   "source": [
    "import time\n",
    "from datetime import datetime\n",
    "def transform_time(ts):\n",
    "    '''transform ts to unixtimestamp, which can be normalized by MinMaxScaler later'''\n",
    "    return time.mktime(datetime.strptime(str(ts), \"%Y%m%d\").timetuple())\n",
    "profile['became_member_on']=profile['became_member_on'].apply(transform_time)\n",
    "profile.head()"
   ]
  },
  {
   "cell_type": "code",
   "execution_count": 6,
   "metadata": {
    "scrolled": true
   },
   "outputs": [
    {
     "data": {
      "text/plain": [
       "array([[<matplotlib.axes._subplots.AxesSubplot object at 0x7f646f898128>,\n",
       "        <matplotlib.axes._subplots.AxesSubplot object at 0x7f646f8b6898>],\n",
       "       [<matplotlib.axes._subplots.AxesSubplot object at 0x7f646f859438>,\n",
       "        <matplotlib.axes._subplots.AxesSubplot object at 0x7f646f874b00>]], dtype=object)"
      ]
     },
     "execution_count": 6,
     "metadata": {},
     "output_type": "execute_result"
    },
    {
     "data": {
      "image/png": "[encoded data removed]",
      "text/plain": [
       "<matplotlib.figure.Figure at 0x7f646f895978>"
      ]
     },
     "metadata": {
      "needs_background": "light"
     },
     "output_type": "display_data"
    }
   ],
   "source": [
    "profile.hist()"
   ]
  },
  {
   "cell_type": "code",
   "execution_count": 7,
   "metadata": {
    "scrolled": false
   },
   "outputs": [
    {
     "data": {
      "text/html": [
       "<div>\n",
       "<style scoped>\n",
       "    .dataframe tbody tr th:only-of-type {\n",
       "        vertical-align: middle;\n",
       "    }\n",
       "\n",
       "    .dataframe tbody tr th {\n",
       "        vertical-align: top;\n",
       "    }\n",
       "\n",
       "    .dataframe thead th {\n",
       "        text-align: right;\n",
       "    }\n",
       "</style>\n",
       "<table border=\"1\" class=\"dataframe\">\n",
       "  <thead>\n",
       "    <tr style=\"text-align: right;\">\n",
       "      <th></th>\n",
       "      <th>age</th>\n",
       "      <th>became_member_on</th>\n",
       "      <th>gender</th>\n",
       "      <th>id</th>\n",
       "      <th>income</th>\n",
       "    </tr>\n",
       "  </thead>\n",
       "  <tbody>\n",
       "    <tr>\n",
       "      <th>0</th>\n",
       "      <td>55</td>\n",
       "      <td>1.500077e+09</td>\n",
       "      <td>F</td>\n",
       "      <td>0610b486422d4921ae7d2bf64640c50b</td>\n",
       "      <td>112000.0</td>\n",
       "    </tr>\n",
       "    <tr>\n",
       "      <th>1</th>\n",
       "      <td>75</td>\n",
       "      <td>1.494288e+09</td>\n",
       "      <td>F</td>\n",
       "      <td>78afa995795e4d85b5d9ceeca43f5fef</td>\n",
       "      <td>100000.0</td>\n",
       "    </tr>\n",
       "    <tr>\n",
       "      <th>2</th>\n",
       "      <td>68</td>\n",
       "      <td>1.524701e+09</td>\n",
       "      <td>M</td>\n",
       "      <td>e2127556f4f64592b11af22de27a7932</td>\n",
       "      <td>70000.0</td>\n",
       "    </tr>\n",
       "    <tr>\n",
       "      <th>3</th>\n",
       "      <td>65</td>\n",
       "      <td>1.518134e+09</td>\n",
       "      <td>M</td>\n",
       "      <td>389bc3fa690240e798340f5a15918d5c</td>\n",
       "      <td>53000.0</td>\n",
       "    </tr>\n",
       "    <tr>\n",
       "      <th>4</th>\n",
       "      <td>58</td>\n",
       "      <td>1.510358e+09</td>\n",
       "      <td>M</td>\n",
       "      <td>2eeac8d8feae4a8cad5a6af0499a211d</td>\n",
       "      <td>51000.0</td>\n",
       "    </tr>\n",
       "  </tbody>\n",
       "</table>\n",
       "</div>"
      ],
      "text/plain": [
       "   age  became_member_on gender                                id    income\n",
       "0   55      1.500077e+09      F  0610b486422d4921ae7d2bf64640c50b  112000.0\n",
       "1   75      1.494288e+09      F  78afa995795e4d85b5d9ceeca43f5fef  100000.0\n",
       "2   68      1.524701e+09      M  e2127556f4f64592b11af22de27a7932   70000.0\n",
       "3   65      1.518134e+09      M  389bc3fa690240e798340f5a15918d5c   53000.0\n",
       "4   58      1.510358e+09      M  2eeac8d8feae4a8cad5a6af0499a211d   51000.0"
      ]
     },
     "execution_count": 7,
     "metadata": {},
     "output_type": "execute_result"
    }
   ],
   "source": [
    "#remove abnormal records in profile e.g. abnormally large age, records with Null income and gender\n",
    "valid_profile=profile[(profile['age']<100) & (profile['gender'].notnull()) & (profile['gender'].notnull())].reset_index(drop=True)\n",
    "valid_profile.head()"
   ]
  },
  {
   "cell_type": "code",
   "execution_count": 8,
   "metadata": {},
   "outputs": [
    {
     "data": {
      "text/plain": [
       "<matplotlib.axes._subplots.AxesSubplot at 0x7f646f6e0dd8>"
      ]
     },
     "execution_count": 8,
     "metadata": {},
     "output_type": "execute_result"
    },
    {
     "data": {
      "image/png": "[encoded data removed]",
      "text/plain": [
       "<matplotlib.figure.Figure at 0x7f64a1d7f828>"
      ]
     },
     "metadata": {
      "needs_background": "light"
     },
     "output_type": "display_data"
    }
   ],
   "source": [
    "#explore persentage of genders in data set\n",
    "gender_count=valid_profile['gender'].value_counts()/valid_profile.shape[0]\n",
    "gender_count.plot(kind='bar', title='Gender Percentage')"
   ]
  },
  {
   "cell_type": "code",
   "execution_count": 9,
   "metadata": {
    "scrolled": true
   },
   "outputs": [
    {
     "data": {
      "text/html": [
       "<div>\n",
       "<style scoped>\n",
       "    .dataframe tbody tr th:only-of-type {\n",
       "        vertical-align: middle;\n",
       "    }\n",
       "\n",
       "    .dataframe tbody tr th {\n",
       "        vertical-align: top;\n",
       "    }\n",
       "\n",
       "    .dataframe thead th {\n",
       "        text-align: right;\n",
       "    }\n",
       "</style>\n",
       "<table border=\"1\" class=\"dataframe\">\n",
       "  <thead>\n",
       "    <tr style=\"text-align: right;\">\n",
       "      <th></th>\n",
       "      <th>event</th>\n",
       "      <th>person</th>\n",
       "      <th>time</th>\n",
       "      <th>value</th>\n",
       "    </tr>\n",
       "  </thead>\n",
       "  <tbody>\n",
       "    <tr>\n",
       "      <th>0</th>\n",
       "      <td>offer received</td>\n",
       "      <td>78afa995795e4d85b5d9ceeca43f5fef</td>\n",
       "      <td>0</td>\n",
       "      <td>{'offer id': '9b98b8c7a33c4b65b9aebfe6a799e6d9'}</td>\n",
       "    </tr>\n",
       "    <tr>\n",
       "      <th>1</th>\n",
       "      <td>offer received</td>\n",
       "      <td>a03223e636434f42ac4c3df47e8bac43</td>\n",
       "      <td>0</td>\n",
       "      <td>{'offer id': '0b1e1539f2cc45b7b9fa7c272da2e1d7'}</td>\n",
       "    </tr>\n",
       "    <tr>\n",
       "      <th>2</th>\n",
       "      <td>offer received</td>\n",
       "      <td>e2127556f4f64592b11af22de27a7932</td>\n",
       "      <td>0</td>\n",
       "      <td>{'offer id': '2906b810c7d4411798c6938adc9daaa5'}</td>\n",
       "    </tr>\n",
       "    <tr>\n",
       "      <th>3</th>\n",
       "      <td>offer received</td>\n",
       "      <td>8ec6ce2a7e7949b1bf142def7d0e0586</td>\n",
       "      <td>0</td>\n",
       "      <td>{'offer id': 'fafdcd668e3743c1bb461111dcafc2a4'}</td>\n",
       "    </tr>\n",
       "    <tr>\n",
       "      <th>4</th>\n",
       "      <td>offer received</td>\n",
       "      <td>68617ca6246f4fbc85e91a2a49552598</td>\n",
       "      <td>0</td>\n",
       "      <td>{'offer id': '4d5c57ea9a6940dd891ad53e9dbe8da0'}</td>\n",
       "    </tr>\n",
       "  </tbody>\n",
       "</table>\n",
       "</div>"
      ],
      "text/plain": [
       "            event                            person  time  \\\n",
       "0  offer received  78afa995795e4d85b5d9ceeca43f5fef     0   \n",
       "1  offer received  a03223e636434f42ac4c3df47e8bac43     0   \n",
       "2  offer received  e2127556f4f64592b11af22de27a7932     0   \n",
       "3  offer received  8ec6ce2a7e7949b1bf142def7d0e0586     0   \n",
       "4  offer received  68617ca6246f4fbc85e91a2a49552598     0   \n",
       "\n",
       "                                              value  \n",
       "0  {'offer id': '9b98b8c7a33c4b65b9aebfe6a799e6d9'}  \n",
       "1  {'offer id': '0b1e1539f2cc45b7b9fa7c272da2e1d7'}  \n",
       "2  {'offer id': '2906b810c7d4411798c6938adc9daaa5'}  \n",
       "3  {'offer id': 'fafdcd668e3743c1bb461111dcafc2a4'}  \n",
       "4  {'offer id': '4d5c57ea9a6940dd891ad53e9dbe8da0'}  "
      ]
     },
     "execution_count": 9,
     "metadata": {},
     "output_type": "execute_result"
    }
   ],
   "source": [
    "transcript.head()"
   ]
  },
  {
   "cell_type": "code",
   "execution_count": 10,
   "metadata": {},
   "outputs": [],
   "source": [
    "def extract_offer_id(value):\n",
    "    '''extract offer_id information from value column'''\n",
    "    key=list(value)[0]\n",
    "    if 'offer' in key:\n",
    "        return value[key]\n",
    "    else:\n",
    "        return 'Not Applicable'\n",
    "    \n",
    "def extract_transaction_amount(value):\n",
    "    '''extract transaction amount information from value column'''\n",
    "    try:\n",
    "        return value['amount']\n",
    "    except:\n",
    "        return 0"
   ]
  },
  {
   "cell_type": "code",
   "execution_count": 11,
   "metadata": {
    "scrolled": false
   },
   "outputs": [
    {
     "data": {
      "text/html": [
       "<div>\n",
       "<style scoped>\n",
       "    .dataframe tbody tr th:only-of-type {\n",
       "        vertical-align: middle;\n",
       "    }\n",
       "\n",
       "    .dataframe tbody tr th {\n",
       "        vertical-align: top;\n",
       "    }\n",
       "\n",
       "    .dataframe thead th {\n",
       "        text-align: right;\n",
       "    }\n",
       "</style>\n",
       "<table border=\"1\" class=\"dataframe\">\n",
       "  <thead>\n",
       "    <tr style=\"text-align: right;\">\n",
       "      <th></th>\n",
       "      <th>event</th>\n",
       "      <th>person</th>\n",
       "      <th>time</th>\n",
       "      <th>offer_id</th>\n",
       "      <th>transaction_amount</th>\n",
       "    </tr>\n",
       "  </thead>\n",
       "  <tbody>\n",
       "    <tr>\n",
       "      <th>0</th>\n",
       "      <td>offer received</td>\n",
       "      <td>78afa995795e4d85b5d9ceeca43f5fef</td>\n",
       "      <td>0</td>\n",
       "      <td>9b98b8c7a33c4b65b9aebfe6a799e6d9</td>\n",
       "      <td>0.0</td>\n",
       "    </tr>\n",
       "    <tr>\n",
       "      <th>1</th>\n",
       "      <td>offer received</td>\n",
       "      <td>a03223e636434f42ac4c3df47e8bac43</td>\n",
       "      <td>0</td>\n",
       "      <td>0b1e1539f2cc45b7b9fa7c272da2e1d7</td>\n",
       "      <td>0.0</td>\n",
       "    </tr>\n",
       "    <tr>\n",
       "      <th>2</th>\n",
       "      <td>offer received</td>\n",
       "      <td>e2127556f4f64592b11af22de27a7932</td>\n",
       "      <td>0</td>\n",
       "      <td>2906b810c7d4411798c6938adc9daaa5</td>\n",
       "      <td>0.0</td>\n",
       "    </tr>\n",
       "    <tr>\n",
       "      <th>3</th>\n",
       "      <td>offer received</td>\n",
       "      <td>8ec6ce2a7e7949b1bf142def7d0e0586</td>\n",
       "      <td>0</td>\n",
       "      <td>fafdcd668e3743c1bb461111dcafc2a4</td>\n",
       "      <td>0.0</td>\n",
       "    </tr>\n",
       "    <tr>\n",
       "      <th>4</th>\n",
       "      <td>offer received</td>\n",
       "      <td>68617ca6246f4fbc85e91a2a49552598</td>\n",
       "      <td>0</td>\n",
       "      <td>4d5c57ea9a6940dd891ad53e9dbe8da0</td>\n",
       "      <td>0.0</td>\n",
       "    </tr>\n",
       "  </tbody>\n",
       "</table>\n",
       "</div>"
      ],
      "text/plain": [
       "            event                            person  time  \\\n",
       "0  offer received  78afa995795e4d85b5d9ceeca43f5fef     0   \n",
       "1  offer received  a03223e636434f42ac4c3df47e8bac43     0   \n",
       "2  offer received  e2127556f4f64592b11af22de27a7932     0   \n",
       "3  offer received  8ec6ce2a7e7949b1bf142def7d0e0586     0   \n",
       "4  offer received  68617ca6246f4fbc85e91a2a49552598     0   \n",
       "\n",
       "                           offer_id  transaction_amount  \n",
       "0  9b98b8c7a33c4b65b9aebfe6a799e6d9                 0.0  \n",
       "1  0b1e1539f2cc45b7b9fa7c272da2e1d7                 0.0  \n",
       "2  2906b810c7d4411798c6938adc9daaa5                 0.0  \n",
       "3  fafdcd668e3743c1bb461111dcafc2a4                 0.0  \n",
       "4  4d5c57ea9a6940dd891ad53e9dbe8da0                 0.0  "
      ]
     },
     "execution_count": 11,
     "metadata": {},
     "output_type": "execute_result"
    }
   ],
   "source": [
    "transcript['offer_id']=transcript['value'].apply(extract_offer_id)\n",
    "transcript['transaction_amount']=transcript['value'].apply(extract_transaction_amount)\n",
    "transcript=transcript.drop(['value'],axis=1)\n",
    "transcript.head()"
   ]
  },
  {
   "cell_type": "code",
   "execution_count": 12,
   "metadata": {
    "scrolled": true
   },
   "outputs": [],
   "source": [
    "def extract_success_offers(this_group):\n",
    "    '''input: this_group (grouped dataframe by person and offer_id as key) \n",
    "    \n",
    "       extract successful offers which have the sequence offer received - offer viewed - offer completed.\n",
    "       if a same type of offer sent to one person multiple times, \n",
    "       the last received offer will be extracted if the offer is completed\n",
    "       \n",
    "       ouput: output succefully completed offer ids, which are flaged as 1 with asscociated offer information \n",
    "       (e.g, offer_received_time, offer_viewed_time and offer_completed_time)\n",
    "    '''\n",
    "    this_group=this_group.sort_values('time').reset_index(drop=True)\n",
    "    event_seq=this_group[this_group['event']!='transaction']['event'].values\n",
    "    event_seq_index=this_group[this_group['event']!='transaction']['event'].index\n",
    "\n",
    "    if len(event_seq)>=3:\n",
    "        seq_comb_list=list(zip(event_seq[0:-2],event_seq[1:-1],event_seq[2:]))\n",
    "        n=len(seq_comb_list)\n",
    "\n",
    "        offer_received_time=[]\n",
    "        offer_viewed_time=[]\n",
    "        offer_completed_time=[]\n",
    "        \n",
    "        for pos in range(n):\n",
    "            comb=seq_comb_list[pos]\n",
    "            if (comb[0]=='offer received') & (comb[1]=='offer viewed') & (comb[2]=='offer completed'):\n",
    "                offer_received_time.append(this_group['time'].iloc[event_seq_index[pos]])\n",
    "                offer_viewed_time.append(this_group['time'].iloc[event_seq_index[pos+1]])\n",
    "                offer_completed_time.append(this_group['time'].iloc[event_seq_index[pos+2]])\n",
    "                \n",
    "            df=pd.DataFrame({'offer_flag':[1]*len(offer_received_time),'offer_received_time':offer_received_time,'offer_viewed_time':offer_viewed_time,'offer_completed_time':offer_completed_time})\n",
    "    else:\n",
    "        df=pd.DataFrame({'offer_flag':[],'offer_received_time':[],'offer_viewed_time':[],'offer_completed_time':[]})\n",
    "    return df"
   ]
  },
  {
   "cell_type": "code",
   "execution_count": 13,
   "metadata": {
    "scrolled": true
   },
   "outputs": [
    {
     "data": {
      "text/html": [
       "<div>\n",
       "<style scoped>\n",
       "    .dataframe tbody tr th:only-of-type {\n",
       "        vertical-align: middle;\n",
       "    }\n",
       "\n",
       "    .dataframe tbody tr th {\n",
       "        vertical-align: top;\n",
       "    }\n",
       "\n",
       "    .dataframe thead th {\n",
       "        text-align: right;\n",
       "    }\n",
       "</style>\n",
       "<table border=\"1\" class=\"dataframe\">\n",
       "  <thead>\n",
       "    <tr style=\"text-align: right;\">\n",
       "      <th></th>\n",
       "      <th>person</th>\n",
       "      <th>offer_id</th>\n",
       "      <th>offer_flag</th>\n",
       "      <th>offer_received_time</th>\n",
       "      <th>offer_viewed_time</th>\n",
       "      <th>offer_completed_time</th>\n",
       "    </tr>\n",
       "  </thead>\n",
       "  <tbody>\n",
       "    <tr>\n",
       "      <th>0</th>\n",
       "      <td>0011e0d4e6b944f998e987f904e8c1e5</td>\n",
       "      <td>0b1e1539f2cc45b7b9fa7c272da2e1d7</td>\n",
       "      <td>1.0</td>\n",
       "      <td>408.0</td>\n",
       "      <td>432.0</td>\n",
       "      <td>576.0</td>\n",
       "    </tr>\n",
       "    <tr>\n",
       "      <th>1</th>\n",
       "      <td>0011e0d4e6b944f998e987f904e8c1e5</td>\n",
       "      <td>2298d6c36e964ae4a3e7e9706d1fb8c2</td>\n",
       "      <td>1.0</td>\n",
       "      <td>168.0</td>\n",
       "      <td>186.0</td>\n",
       "      <td>252.0</td>\n",
       "    </tr>\n",
       "    <tr>\n",
       "      <th>2</th>\n",
       "      <td>0011e0d4e6b944f998e987f904e8c1e5</td>\n",
       "      <td>9b98b8c7a33c4b65b9aebfe6a799e6d9</td>\n",
       "      <td>1.0</td>\n",
       "      <td>504.0</td>\n",
       "      <td>516.0</td>\n",
       "      <td>576.0</td>\n",
       "    </tr>\n",
       "    <tr>\n",
       "      <th>3</th>\n",
       "      <td>0020c2b971eb4e9188eac86d93036a77</td>\n",
       "      <td>4d5c57ea9a6940dd891ad53e9dbe8da0</td>\n",
       "      <td>1.0</td>\n",
       "      <td>408.0</td>\n",
       "      <td>426.0</td>\n",
       "      <td>510.0</td>\n",
       "    </tr>\n",
       "    <tr>\n",
       "      <th>4</th>\n",
       "      <td>0020c2b971eb4e9188eac86d93036a77</td>\n",
       "      <td>fafdcd668e3743c1bb461111dcafc2a4</td>\n",
       "      <td>1.0</td>\n",
       "      <td>0.0</td>\n",
       "      <td>12.0</td>\n",
       "      <td>54.0</td>\n",
       "    </tr>\n",
       "  </tbody>\n",
       "</table>\n",
       "</div>"
      ],
      "text/plain": [
       "                             person                          offer_id  \\\n",
       "0  0011e0d4e6b944f998e987f904e8c1e5  0b1e1539f2cc45b7b9fa7c272da2e1d7   \n",
       "1  0011e0d4e6b944f998e987f904e8c1e5  2298d6c36e964ae4a3e7e9706d1fb8c2   \n",
       "2  0011e0d4e6b944f998e987f904e8c1e5  9b98b8c7a33c4b65b9aebfe6a799e6d9   \n",
       "3  0020c2b971eb4e9188eac86d93036a77  4d5c57ea9a6940dd891ad53e9dbe8da0   \n",
       "4  0020c2b971eb4e9188eac86d93036a77  fafdcd668e3743c1bb461111dcafc2a4   \n",
       "\n",
       "   offer_flag  offer_received_time  offer_viewed_time  offer_completed_time  \n",
       "0         1.0                408.0              432.0                 576.0  \n",
       "1         1.0                168.0              186.0                 252.0  \n",
       "2         1.0                504.0              516.0                 576.0  \n",
       "3         1.0                408.0              426.0                 510.0  \n",
       "4         1.0                  0.0               12.0                  54.0  "
      ]
     },
     "execution_count": 13,
     "metadata": {},
     "output_type": "execute_result"
    }
   ],
   "source": [
    "success_offers=transcript[['event','person','time','offer_id']][transcript['offer_id']!='Not Applicable'].groupby(['person','offer_id']).apply(extract_success_offers).reset_index(level=['person','offer_id']).reset_index(drop=True)\n",
    "success_offers.head()"
   ]
  },
  {
   "cell_type": "code",
   "execution_count": 14,
   "metadata": {},
   "outputs": [],
   "source": [
    "def extract_fail_offers(this_group):\n",
    "    '''input: this_group (grouped dataframe by person and offer_id as key) \n",
    "    \n",
    "       extract failed offers which have the sequence offer received - offer viewed - offer not completed.\n",
    "       if a same type of offer sent to one person multiple times, \n",
    "       the last received offer will be extracted \n",
    "       \n",
    "       ouput: output failed to complete offer ids, which are flaged as 0 with asscociated offer information \n",
    "       (e.g, offer_received_time, offer_viewed_time and offer_completed_time=None)\n",
    "    '''\n",
    "    this_group=this_group.sort_values('time').reset_index(drop=True)\n",
    "    event_seq=this_group[this_group['event']!='transaction']['event'].values\n",
    "    event_seq_index=this_group[this_group['event']!='transaction']['event'].index\n",
    "\n",
    "    if len(event_seq)>=2:\n",
    "        seq_comb_list=list(zip(event_seq[0:-1],event_seq[1:]))\n",
    "        n=len(seq_comb_list)\n",
    "\n",
    "        offer_received_time=[]\n",
    "        offer_viewed_time=[]\n",
    "\n",
    "        for pos in range(n):\n",
    "            comb=seq_comb_list[pos]\n",
    "            if (comb[0]=='offer received') & (comb[1]=='offer viewed'):\n",
    "                try:\n",
    "                    if this_group['event'].iloc[event_seq_index[pos+2]]!='offer completed':  \n",
    "                        offer_received_time.append(this_group['time'].iloc[event_seq_index[pos]])\n",
    "                        offer_viewed_time.append(this_group['time'].iloc[event_seq_index[pos+1]])\n",
    "                except:\n",
    "                    offer_received_time.append(this_group['time'].iloc[event_seq_index[pos]])\n",
    "                    offer_viewed_time.append(this_group['time'].iloc[event_seq_index[pos+1]])\n",
    "\n",
    "        df=pd.DataFrame({'offer_flag':[0]*len(offer_received_time),'offer_received_time':offer_received_time,'offer_viewed_time':offer_viewed_time})\n",
    "    else:\n",
    "        df=pd.DataFrame({'offer_flag':[],'offer_received_time':[],'offer_viewed_time':[]})\n",
    "    \n",
    "    return df"
   ]
  },
  {
   "cell_type": "code",
   "execution_count": 15,
   "metadata": {},
   "outputs": [
    {
     "data": {
      "text/html": [
       "<div>\n",
       "<style scoped>\n",
       "    .dataframe tbody tr th:only-of-type {\n",
       "        vertical-align: middle;\n",
       "    }\n",
       "\n",
       "    .dataframe tbody tr th {\n",
       "        vertical-align: top;\n",
       "    }\n",
       "\n",
       "    .dataframe thead th {\n",
       "        text-align: right;\n",
       "    }\n",
       "</style>\n",
       "<table border=\"1\" class=\"dataframe\">\n",
       "  <thead>\n",
       "    <tr style=\"text-align: right;\">\n",
       "      <th></th>\n",
       "      <th>person</th>\n",
       "      <th>offer_id</th>\n",
       "      <th>offer_flag</th>\n",
       "      <th>offer_received_time</th>\n",
       "      <th>offer_viewed_time</th>\n",
       "      <th>offer_completed_time</th>\n",
       "    </tr>\n",
       "  </thead>\n",
       "  <tbody>\n",
       "    <tr>\n",
       "      <th>0</th>\n",
       "      <td>0009655768c64bdeb2e877511632db8f</td>\n",
       "      <td>3f207df678b143eea3cee63160fa8bed</td>\n",
       "      <td>0.0</td>\n",
       "      <td>336.0</td>\n",
       "      <td>372.0</td>\n",
       "      <td>None</td>\n",
       "    </tr>\n",
       "    <tr>\n",
       "      <th>1</th>\n",
       "      <td>0009655768c64bdeb2e877511632db8f</td>\n",
       "      <td>5a8bc65990b245e5a138643cd4eb9837</td>\n",
       "      <td>0.0</td>\n",
       "      <td>168.0</td>\n",
       "      <td>192.0</td>\n",
       "      <td>None</td>\n",
       "    </tr>\n",
       "    <tr>\n",
       "      <th>2</th>\n",
       "      <td>00116118485d4dfda04fdbaba9a87b5c</td>\n",
       "      <td>f19421c1d4aa40978ebb69ca19b0e20d</td>\n",
       "      <td>0.0</td>\n",
       "      <td>168.0</td>\n",
       "      <td>216.0</td>\n",
       "      <td>None</td>\n",
       "    </tr>\n",
       "    <tr>\n",
       "      <th>3</th>\n",
       "      <td>00116118485d4dfda04fdbaba9a87b5c</td>\n",
       "      <td>f19421c1d4aa40978ebb69ca19b0e20d</td>\n",
       "      <td>0.0</td>\n",
       "      <td>576.0</td>\n",
       "      <td>630.0</td>\n",
       "      <td>None</td>\n",
       "    </tr>\n",
       "    <tr>\n",
       "      <th>4</th>\n",
       "      <td>0011e0d4e6b944f998e987f904e8c1e5</td>\n",
       "      <td>3f207df678b143eea3cee63160fa8bed</td>\n",
       "      <td>0.0</td>\n",
       "      <td>0.0</td>\n",
       "      <td>6.0</td>\n",
       "      <td>None</td>\n",
       "    </tr>\n",
       "  </tbody>\n",
       "</table>\n",
       "</div>"
      ],
      "text/plain": [
       "                             person                          offer_id  \\\n",
       "0  0009655768c64bdeb2e877511632db8f  3f207df678b143eea3cee63160fa8bed   \n",
       "1  0009655768c64bdeb2e877511632db8f  5a8bc65990b245e5a138643cd4eb9837   \n",
       "2  00116118485d4dfda04fdbaba9a87b5c  f19421c1d4aa40978ebb69ca19b0e20d   \n",
       "3  00116118485d4dfda04fdbaba9a87b5c  f19421c1d4aa40978ebb69ca19b0e20d   \n",
       "4  0011e0d4e6b944f998e987f904e8c1e5  3f207df678b143eea3cee63160fa8bed   \n",
       "\n",
       "   offer_flag  offer_received_time  offer_viewed_time offer_completed_time  \n",
       "0         0.0                336.0              372.0                 None  \n",
       "1         0.0                168.0              192.0                 None  \n",
       "2         0.0                168.0              216.0                 None  \n",
       "3         0.0                576.0              630.0                 None  \n",
       "4         0.0                  0.0                6.0                 None  "
      ]
     },
     "execution_count": 15,
     "metadata": {},
     "output_type": "execute_result"
    }
   ],
   "source": [
    "fail_offers=transcript[['event','person','time','offer_id']][transcript['offer_id']!='Not Applicable'].groupby(['person','offer_id']).apply(extract_fail_offers).reset_index(level=['person','offer_id']).reset_index(drop=True)\n",
    "fail_offers['offer_completed_time']=None\n",
    "fail_offers.head()"
   ]
  },
  {
   "cell_type": "code",
   "execution_count": 16,
   "metadata": {},
   "outputs": [
    {
     "data": {
      "text/html": [
       "<div>\n",
       "<style scoped>\n",
       "    .dataframe tbody tr th:only-of-type {\n",
       "        vertical-align: middle;\n",
       "    }\n",
       "\n",
       "    .dataframe tbody tr th {\n",
       "        vertical-align: top;\n",
       "    }\n",
       "\n",
       "    .dataframe thead th {\n",
       "        text-align: right;\n",
       "    }\n",
       "</style>\n",
       "<table border=\"1\" class=\"dataframe\">\n",
       "  <thead>\n",
       "    <tr style=\"text-align: right;\">\n",
       "      <th></th>\n",
       "      <th>person</th>\n",
       "      <th>offer_id</th>\n",
       "      <th>offer_flag</th>\n",
       "      <th>offer_received_time</th>\n",
       "      <th>offer_viewed_time</th>\n",
       "      <th>offer_completed_time</th>\n",
       "      <th>offer_completed_duration</th>\n",
       "    </tr>\n",
       "  </thead>\n",
       "  <tbody>\n",
       "    <tr>\n",
       "      <th>0</th>\n",
       "      <td>0011e0d4e6b944f998e987f904e8c1e5</td>\n",
       "      <td>0b1e1539f2cc45b7b9fa7c272da2e1d7</td>\n",
       "      <td>1.0</td>\n",
       "      <td>408.0</td>\n",
       "      <td>432.0</td>\n",
       "      <td>576</td>\n",
       "      <td>168</td>\n",
       "    </tr>\n",
       "    <tr>\n",
       "      <th>1</th>\n",
       "      <td>0011e0d4e6b944f998e987f904e8c1e5</td>\n",
       "      <td>2298d6c36e964ae4a3e7e9706d1fb8c2</td>\n",
       "      <td>1.0</td>\n",
       "      <td>168.0</td>\n",
       "      <td>186.0</td>\n",
       "      <td>252</td>\n",
       "      <td>84</td>\n",
       "    </tr>\n",
       "    <tr>\n",
       "      <th>2</th>\n",
       "      <td>0011e0d4e6b944f998e987f904e8c1e5</td>\n",
       "      <td>9b98b8c7a33c4b65b9aebfe6a799e6d9</td>\n",
       "      <td>1.0</td>\n",
       "      <td>504.0</td>\n",
       "      <td>516.0</td>\n",
       "      <td>576</td>\n",
       "      <td>72</td>\n",
       "    </tr>\n",
       "    <tr>\n",
       "      <th>3</th>\n",
       "      <td>0020c2b971eb4e9188eac86d93036a77</td>\n",
       "      <td>4d5c57ea9a6940dd891ad53e9dbe8da0</td>\n",
       "      <td>1.0</td>\n",
       "      <td>408.0</td>\n",
       "      <td>426.0</td>\n",
       "      <td>510</td>\n",
       "      <td>102</td>\n",
       "    </tr>\n",
       "    <tr>\n",
       "      <th>4</th>\n",
       "      <td>0020c2b971eb4e9188eac86d93036a77</td>\n",
       "      <td>fafdcd668e3743c1bb461111dcafc2a4</td>\n",
       "      <td>1.0</td>\n",
       "      <td>0.0</td>\n",
       "      <td>12.0</td>\n",
       "      <td>54</td>\n",
       "      <td>54</td>\n",
       "    </tr>\n",
       "  </tbody>\n",
       "</table>\n",
       "</div>"
      ],
      "text/plain": [
       "                             person                          offer_id  \\\n",
       "0  0011e0d4e6b944f998e987f904e8c1e5  0b1e1539f2cc45b7b9fa7c272da2e1d7   \n",
       "1  0011e0d4e6b944f998e987f904e8c1e5  2298d6c36e964ae4a3e7e9706d1fb8c2   \n",
       "2  0011e0d4e6b944f998e987f904e8c1e5  9b98b8c7a33c4b65b9aebfe6a799e6d9   \n",
       "3  0020c2b971eb4e9188eac86d93036a77  4d5c57ea9a6940dd891ad53e9dbe8da0   \n",
       "4  0020c2b971eb4e9188eac86d93036a77  fafdcd668e3743c1bb461111dcafc2a4   \n",
       "\n",
       "   offer_flag  offer_received_time  offer_viewed_time offer_completed_time  \\\n",
       "0         1.0                408.0              432.0                  576   \n",
       "1         1.0                168.0              186.0                  252   \n",
       "2         1.0                504.0              516.0                  576   \n",
       "3         1.0                408.0              426.0                  510   \n",
       "4         1.0                  0.0               12.0                   54   \n",
       "\n",
       "  offer_completed_duration  \n",
       "0                      168  \n",
       "1                       84  \n",
       "2                       72  \n",
       "3                      102  \n",
       "4                       54  "
      ]
     },
     "execution_count": 16,
     "metadata": {},
     "output_type": "execute_result"
    }
   ],
   "source": [
    "##combine all succesful offers and failed offers and calculate offer_completed_duration\n",
    "all_offers=pd.concat([success_offers,fail_offers],axis=0)\n",
    "all_offers['offer_completed_duration']=all_offers['offer_completed_time']-all_offers['offer_received_time']\n",
    "all_offers.head()"
   ]
  },
  {
   "cell_type": "code",
   "execution_count": 17,
   "metadata": {
    "scrolled": false
   },
   "outputs": [
    {
     "data": {
      "text/html": [
       "<div>\n",
       "<style scoped>\n",
       "    .dataframe tbody tr th:only-of-type {\n",
       "        vertical-align: middle;\n",
       "    }\n",
       "\n",
       "    .dataframe tbody tr th {\n",
       "        vertical-align: top;\n",
       "    }\n",
       "\n",
       "    .dataframe thead th {\n",
       "        text-align: right;\n",
       "    }\n",
       "</style>\n",
       "<table border=\"1\" class=\"dataframe\">\n",
       "  <thead>\n",
       "    <tr style=\"text-align: right;\">\n",
       "      <th></th>\n",
       "      <th>person</th>\n",
       "      <th>offer_id</th>\n",
       "      <th>offer_flag</th>\n",
       "      <th>offer_received_time</th>\n",
       "      <th>offer_viewed_time</th>\n",
       "      <th>offer_completed_time</th>\n",
       "      <th>offer_completed_duration</th>\n",
       "      <th>offer_type</th>\n",
       "      <th>duration</th>\n",
       "      <th>age</th>\n",
       "      <th>became_member_on</th>\n",
       "      <th>gender</th>\n",
       "      <th>income</th>\n",
       "    </tr>\n",
       "  </thead>\n",
       "  <tbody>\n",
       "    <tr>\n",
       "      <th>0</th>\n",
       "      <td>0011e0d4e6b944f998e987f904e8c1e5</td>\n",
       "      <td>0b1e1539f2cc45b7b9fa7c272da2e1d7</td>\n",
       "      <td>1.0</td>\n",
       "      <td>408.0</td>\n",
       "      <td>432.0</td>\n",
       "      <td>576</td>\n",
       "      <td>168</td>\n",
       "      <td>discount</td>\n",
       "      <td>10</td>\n",
       "      <td>40</td>\n",
       "      <td>1.515456e+09</td>\n",
       "      <td>O</td>\n",
       "      <td>57000.0</td>\n",
       "    </tr>\n",
       "    <tr>\n",
       "      <th>1</th>\n",
       "      <td>0011e0d4e6b944f998e987f904e8c1e5</td>\n",
       "      <td>2298d6c36e964ae4a3e7e9706d1fb8c2</td>\n",
       "      <td>1.0</td>\n",
       "      <td>168.0</td>\n",
       "      <td>186.0</td>\n",
       "      <td>252</td>\n",
       "      <td>84</td>\n",
       "      <td>discount</td>\n",
       "      <td>7</td>\n",
       "      <td>40</td>\n",
       "      <td>1.515456e+09</td>\n",
       "      <td>O</td>\n",
       "      <td>57000.0</td>\n",
       "    </tr>\n",
       "    <tr>\n",
       "      <th>2</th>\n",
       "      <td>0011e0d4e6b944f998e987f904e8c1e5</td>\n",
       "      <td>9b98b8c7a33c4b65b9aebfe6a799e6d9</td>\n",
       "      <td>1.0</td>\n",
       "      <td>504.0</td>\n",
       "      <td>516.0</td>\n",
       "      <td>576</td>\n",
       "      <td>72</td>\n",
       "      <td>bogo</td>\n",
       "      <td>7</td>\n",
       "      <td>40</td>\n",
       "      <td>1.515456e+09</td>\n",
       "      <td>O</td>\n",
       "      <td>57000.0</td>\n",
       "    </tr>\n",
       "    <tr>\n",
       "      <th>3</th>\n",
       "      <td>0011e0d4e6b944f998e987f904e8c1e5</td>\n",
       "      <td>3f207df678b143eea3cee63160fa8bed</td>\n",
       "      <td>0.0</td>\n",
       "      <td>0.0</td>\n",
       "      <td>6.0</td>\n",
       "      <td>None</td>\n",
       "      <td>NaN</td>\n",
       "      <td>informational</td>\n",
       "      <td>4</td>\n",
       "      <td>40</td>\n",
       "      <td>1.515456e+09</td>\n",
       "      <td>O</td>\n",
       "      <td>57000.0</td>\n",
       "    </tr>\n",
       "    <tr>\n",
       "      <th>4</th>\n",
       "      <td>0011e0d4e6b944f998e987f904e8c1e5</td>\n",
       "      <td>5a8bc65990b245e5a138643cd4eb9837</td>\n",
       "      <td>0.0</td>\n",
       "      <td>336.0</td>\n",
       "      <td>354.0</td>\n",
       "      <td>None</td>\n",
       "      <td>NaN</td>\n",
       "      <td>informational</td>\n",
       "      <td>3</td>\n",
       "      <td>40</td>\n",
       "      <td>1.515456e+09</td>\n",
       "      <td>O</td>\n",
       "      <td>57000.0</td>\n",
       "    </tr>\n",
       "  </tbody>\n",
       "</table>\n",
       "</div>"
      ],
      "text/plain": [
       "                             person                          offer_id  \\\n",
       "0  0011e0d4e6b944f998e987f904e8c1e5  0b1e1539f2cc45b7b9fa7c272da2e1d7   \n",
       "1  0011e0d4e6b944f998e987f904e8c1e5  2298d6c36e964ae4a3e7e9706d1fb8c2   \n",
       "2  0011e0d4e6b944f998e987f904e8c1e5  9b98b8c7a33c4b65b9aebfe6a799e6d9   \n",
       "3  0011e0d4e6b944f998e987f904e8c1e5  3f207df678b143eea3cee63160fa8bed   \n",
       "4  0011e0d4e6b944f998e987f904e8c1e5  5a8bc65990b245e5a138643cd4eb9837   \n",
       "\n",
       "   offer_flag  offer_received_time  offer_viewed_time offer_completed_time  \\\n",
       "0         1.0                408.0              432.0                  576   \n",
       "1         1.0                168.0              186.0                  252   \n",
       "2         1.0                504.0              516.0                  576   \n",
       "3         0.0                  0.0                6.0                 None   \n",
       "4         0.0                336.0              354.0                 None   \n",
       "\n",
       "  offer_completed_duration     offer_type  duration  age  became_member_on  \\\n",
       "0                      168       discount        10   40      1.515456e+09   \n",
       "1                       84       discount         7   40      1.515456e+09   \n",
       "2                       72           bogo         7   40      1.515456e+09   \n",
       "3                      NaN  informational         4   40      1.515456e+09   \n",
       "4                      NaN  informational         3   40      1.515456e+09   \n",
       "\n",
       "  gender   income  \n",
       "0      O  57000.0  \n",
       "1      O  57000.0  \n",
       "2      O  57000.0  \n",
       "3      O  57000.0  \n",
       "4      O  57000.0  "
      ]
     },
     "execution_count": 17,
     "metadata": {},
     "output_type": "execute_result"
    }
   ],
   "source": [
    "###merge with protfolio and profile dataframe to add information regarding offer and person\n",
    "portfolio=portfolio.rename(columns={'id': 'offer_id'})\n",
    "valid_profile=valid_profile.rename(columns={'id':'person'})\n",
    "offers_df=all_offers.merge(portfolio[['offer_id','offer_type','duration']],on='offer_id', how='inner').merge(valid_profile,on='person',how='inner')\n",
    "offers_df.head()"
   ]
  },
  {
   "cell_type": "code",
   "execution_count": 18,
   "metadata": {},
   "outputs": [
    {
     "data": {
      "text/html": [
       "<div>\n",
       "<style scoped>\n",
       "    .dataframe tbody tr th:only-of-type {\n",
       "        vertical-align: middle;\n",
       "    }\n",
       "\n",
       "    .dataframe tbody tr th {\n",
       "        vertical-align: top;\n",
       "    }\n",
       "\n",
       "    .dataframe thead th {\n",
       "        text-align: right;\n",
       "    }\n",
       "</style>\n",
       "<table border=\"1\" class=\"dataframe\">\n",
       "  <thead>\n",
       "    <tr style=\"text-align: right;\">\n",
       "      <th></th>\n",
       "      <th>offer_flag</th>\n",
       "      <th>offer_received_time</th>\n",
       "      <th>offer_viewed_time</th>\n",
       "      <th>duration</th>\n",
       "      <th>age</th>\n",
       "      <th>became_member_on</th>\n",
       "      <th>income</th>\n",
       "    </tr>\n",
       "  </thead>\n",
       "  <tbody>\n",
       "    <tr>\n",
       "      <th>count</th>\n",
       "      <td>45654.000000</td>\n",
       "      <td>45654.000000</td>\n",
       "      <td>45654.000000</td>\n",
       "      <td>45654.000000</td>\n",
       "      <td>45654.000000</td>\n",
       "      <td>4.565400e+04</td>\n",
       "      <td>45654.000000</td>\n",
       "    </tr>\n",
       "    <tr>\n",
       "      <th>mean</th>\n",
       "      <td>0.488457</td>\n",
       "      <td>324.663425</td>\n",
       "      <td>348.932448</td>\n",
       "      <td>6.267425</td>\n",
       "      <td>54.454243</td>\n",
       "      <td>1.487453e+09</td>\n",
       "      <td>65392.649056</td>\n",
       "    </tr>\n",
       "    <tr>\n",
       "      <th>std</th>\n",
       "      <td>0.499872</td>\n",
       "      <td>199.650818</td>\n",
       "      <td>199.307209</td>\n",
       "      <td>2.183397</td>\n",
       "      <td>17.100747</td>\n",
       "      <td>3.644386e+07</td>\n",
       "      <td>20993.540542</td>\n",
       "    </tr>\n",
       "    <tr>\n",
       "      <th>min</th>\n",
       "      <td>0.000000</td>\n",
       "      <td>0.000000</td>\n",
       "      <td>0.000000</td>\n",
       "      <td>3.000000</td>\n",
       "      <td>18.000000</td>\n",
       "      <td>1.375056e+09</td>\n",
       "      <td>30000.000000</td>\n",
       "    </tr>\n",
       "    <tr>\n",
       "      <th>25%</th>\n",
       "      <td>0.000000</td>\n",
       "      <td>168.000000</td>\n",
       "      <td>180.000000</td>\n",
       "      <td>5.000000</td>\n",
       "      <td>43.000000</td>\n",
       "      <td>1.463616e+09</td>\n",
       "      <td>50000.000000</td>\n",
       "    </tr>\n",
       "    <tr>\n",
       "      <th>50%</th>\n",
       "      <td>0.000000</td>\n",
       "      <td>336.000000</td>\n",
       "      <td>390.000000</td>\n",
       "      <td>7.000000</td>\n",
       "      <td>55.000000</td>\n",
       "      <td>1.501891e+09</td>\n",
       "      <td>64000.000000</td>\n",
       "    </tr>\n",
       "    <tr>\n",
       "      <th>75%</th>\n",
       "      <td>1.000000</td>\n",
       "      <td>504.000000</td>\n",
       "      <td>516.000000</td>\n",
       "      <td>7.000000</td>\n",
       "      <td>66.000000</td>\n",
       "      <td>1.514678e+09</td>\n",
       "      <td>79000.000000</td>\n",
       "    </tr>\n",
       "    <tr>\n",
       "      <th>max</th>\n",
       "      <td>1.000000</td>\n",
       "      <td>576.000000</td>\n",
       "      <td>714.000000</td>\n",
       "      <td>10.000000</td>\n",
       "      <td>99.000000</td>\n",
       "      <td>1.532563e+09</td>\n",
       "      <td>120000.000000</td>\n",
       "    </tr>\n",
       "  </tbody>\n",
       "</table>\n",
       "</div>"
      ],
      "text/plain": [
       "         offer_flag  offer_received_time  offer_viewed_time      duration  \\\n",
       "count  45654.000000         45654.000000       45654.000000  45654.000000   \n",
       "mean       0.488457           324.663425         348.932448      6.267425   \n",
       "std        0.499872           199.650818         199.307209      2.183397   \n",
       "min        0.000000             0.000000           0.000000      3.000000   \n",
       "25%        0.000000           168.000000         180.000000      5.000000   \n",
       "50%        0.000000           336.000000         390.000000      7.000000   \n",
       "75%        1.000000           504.000000         516.000000      7.000000   \n",
       "max        1.000000           576.000000         714.000000     10.000000   \n",
       "\n",
       "                age  became_member_on         income  \n",
       "count  45654.000000      4.565400e+04   45654.000000  \n",
       "mean      54.454243      1.487453e+09   65392.649056  \n",
       "std       17.100747      3.644386e+07   20993.540542  \n",
       "min       18.000000      1.375056e+09   30000.000000  \n",
       "25%       43.000000      1.463616e+09   50000.000000  \n",
       "50%       55.000000      1.501891e+09   64000.000000  \n",
       "75%       66.000000      1.514678e+09   79000.000000  \n",
       "max       99.000000      1.532563e+09  120000.000000  "
      ]
     },
     "execution_count": 18,
     "metadata": {},
     "output_type": "execute_result"
    }
   ],
   "source": [
    "offers_df.describe()"
   ]
  },
  {
   "cell_type": "code",
   "execution_count": 19,
   "metadata": {},
   "outputs": [
    {
     "name": "stdout",
     "output_type": "stream",
     "text": [
      "(19741, 13) (16565, 13) (9348, 13)\n"
     ]
    }
   ],
   "source": [
    "bogo_df=offers_df[offers_df['offer_type']=='bogo']\n",
    "discount_df=offers_df[offers_df['offer_type']=='discount']\n",
    "info_df=offers_df[offers_df['offer_type']=='informational']\n",
    "print (bogo_df.shape, discount_df.shape, info_df.shape)"
   ]
  },
  {
   "cell_type": "code",
   "execution_count": 20,
   "metadata": {},
   "outputs": [
    {
     "name": "stdout",
     "output_type": "stream",
     "text": [
      "Class 0 percent:  46.1577427689\n",
      "Class 1 percent:  53.8422572311\n"
     ]
    },
    {
     "data": {
      "text/plain": [
       "<matplotlib.axes._subplots.AxesSubplot at 0x7f646f6485f8>"
      ]
     },
     "execution_count": 20,
     "metadata": {},
     "output_type": "execute_result"
    },
    {
     "data": {
      "image/png": "[encoded data removed]",
      "text/plain": [
       "<matplotlib.figure.Figure at 0x7f646f6ec438>"
      ]
     },
     "metadata": {
      "needs_background": "light"
     },
     "output_type": "display_data"
    }
   ],
   "source": [
    "#explore distribution of succesful and failed offers for bogo type offer\n",
    "bogo_class_count=bogo_df['offer_flag'].value_counts()/bogo_df.shape[0]\n",
    "print ('Class 0 percent: ', bogo_class_count[0]*100)\n",
    "print ('Class 1 percent: ', bogo_class_count[1]*100)\n",
    "bogo_class_count.plot(kind='bar', title='Bogo: Class Count')"
   ]
  },
  {
   "cell_type": "code",
   "execution_count": 21,
   "metadata": {},
   "outputs": [
    {
     "name": "stdout",
     "output_type": "stream",
     "text": [
      "Class 0 percent:  29.5442197404\n",
      "Class 1 percent:  70.4557802596\n"
     ]
    },
    {
     "data": {
      "text/plain": [
       "<matplotlib.axes._subplots.AxesSubplot at 0x7f646f69f908>"
      ]
     },
     "execution_count": 21,
     "metadata": {},
     "output_type": "execute_result"
    },
    {
     "data": {
      "image/png": "[encoded data removed]",
      "text/plain": [
       "<matplotlib.figure.Figure at 0x7f6470072978>"
      ]
     },
     "metadata": {
      "needs_background": "light"
     },
     "output_type": "display_data"
    }
   ],
   "source": [
    "#explore distribution of succesful and failed offers for discount type offer\n",
    "discount_class_count=discount_df['offer_flag'].value_counts()/discount_df.shape[0]\n",
    "print ('Class 0 percent: ', discount_class_count[0]*100)\n",
    "print ('Class 1 percent: ', discount_class_count[1]*100)\n",
    "discount_class_count.plot(kind='bar', title='Discount: Class Count')"
   ]
  },
  {
   "cell_type": "code",
   "execution_count": 22,
   "metadata": {
    "scrolled": true
   },
   "outputs": [
    {
     "name": "stdout",
     "output_type": "stream",
     "text": [
      "Class 0 percent:  100.0\n",
      "Class 1 percent:  0.0\n"
     ]
    },
    {
     "data": {
      "text/plain": [
       "<matplotlib.axes._subplots.AxesSubplot at 0x7f646f5cd828>"
      ]
     },
     "execution_count": 22,
     "metadata": {},
     "output_type": "execute_result"
    },
    {
     "data": {
      "image/png": "[encoded data removed]",
      "text/plain": [
       "<matplotlib.figure.Figure at 0x7f646f5fd0b8>"
      ]
     },
     "metadata": {
      "needs_background": "light"
     },
     "output_type": "display_data"
    }
   ],
   "source": [
    "#explore distribution of succesful and failed offers for informational type offer\n",
    "info_class_count=info_df['offer_flag'].value_counts()/info_df.shape[0]\n",
    "print ('Class 0 percent: ', info_class_count[0]*100)\n",
    "print ('Class 1 percent: ', (1-info_class_count[0])*100)\n",
    "info_class_count.plot(kind='bar', title='Informational: Class Count')"
   ]
  },
  {
   "cell_type": "code",
   "execution_count": null,
   "metadata": {},
   "outputs": [],
   "source": []
  },
  {
   "cell_type": "markdown",
   "metadata": {},
   "source": [
    "## 2. Algorithm Application"
   ]
  },
  {
   "cell_type": "code",
   "execution_count": 23,
   "metadata": {},
   "outputs": [],
   "source": [
    "from sklearn.model_selection import train_test_split\n",
    "from sklearn.ensemble import RandomForestClassifier\n",
    "from sklearn.linear_model import LogisticRegression\n",
    "from sklearn import svm\n",
    "from sklearn.ensemble import GradientBoostingClassifier\n",
    "from sklearn.ensemble import AdaBoostClassifier\n",
    "from sklearn.metrics import fbeta_score\n",
    "from sklearn.model_selection import GridSearchCV\n",
    "from sklearn.metrics import make_scorer"
   ]
  },
  {
   "cell_type": "markdown",
   "metadata": {},
   "source": [
    "### 2.1 Feature Extraction"
   ]
  },
  {
   "cell_type": "code",
   "execution_count": 32,
   "metadata": {
    "scrolled": false
   },
   "outputs": [
    {
     "data": {
      "text/html": [
       "<div>\n",
       "<style scoped>\n",
       "    .dataframe tbody tr th:only-of-type {\n",
       "        vertical-align: middle;\n",
       "    }\n",
       "\n",
       "    .dataframe tbody tr th {\n",
       "        vertical-align: top;\n",
       "    }\n",
       "\n",
       "    .dataframe thead th {\n",
       "        text-align: right;\n",
       "    }\n",
       "</style>\n",
       "<table border=\"1\" class=\"dataframe\">\n",
       "  <thead>\n",
       "    <tr style=\"text-align: right;\">\n",
       "      <th></th>\n",
       "      <th>person</th>\n",
       "      <th>offer_id</th>\n",
       "      <th>offer_flag</th>\n",
       "      <th>offer_received_time</th>\n",
       "      <th>offer_viewed_time</th>\n",
       "      <th>offer_completed_time</th>\n",
       "      <th>offer_completed_duration</th>\n",
       "      <th>offer_type</th>\n",
       "      <th>duration</th>\n",
       "      <th>age</th>\n",
       "      <th>became_member_on</th>\n",
       "      <th>income</th>\n",
       "      <th>F</th>\n",
       "      <th>M</th>\n",
       "      <th>O</th>\n",
       "    </tr>\n",
       "  </thead>\n",
       "  <tbody>\n",
       "    <tr>\n",
       "      <th>0</th>\n",
       "      <td>0011e0d4e6b944f998e987f904e8c1e5</td>\n",
       "      <td>0b1e1539f2cc45b7b9fa7c272da2e1d7</td>\n",
       "      <td>1.0</td>\n",
       "      <td>408.0</td>\n",
       "      <td>432.0</td>\n",
       "      <td>576</td>\n",
       "      <td>168</td>\n",
       "      <td>discount</td>\n",
       "      <td>10</td>\n",
       "      <td>40</td>\n",
       "      <td>1.515456e+09</td>\n",
       "      <td>57000.0</td>\n",
       "      <td>0</td>\n",
       "      <td>0</td>\n",
       "      <td>1</td>\n",
       "    </tr>\n",
       "    <tr>\n",
       "      <th>1</th>\n",
       "      <td>0011e0d4e6b944f998e987f904e8c1e5</td>\n",
       "      <td>2298d6c36e964ae4a3e7e9706d1fb8c2</td>\n",
       "      <td>1.0</td>\n",
       "      <td>168.0</td>\n",
       "      <td>186.0</td>\n",
       "      <td>252</td>\n",
       "      <td>84</td>\n",
       "      <td>discount</td>\n",
       "      <td>7</td>\n",
       "      <td>40</td>\n",
       "      <td>1.515456e+09</td>\n",
       "      <td>57000.0</td>\n",
       "      <td>0</td>\n",
       "      <td>0</td>\n",
       "      <td>1</td>\n",
       "    </tr>\n",
       "    <tr>\n",
       "      <th>2</th>\n",
       "      <td>0011e0d4e6b944f998e987f904e8c1e5</td>\n",
       "      <td>9b98b8c7a33c4b65b9aebfe6a799e6d9</td>\n",
       "      <td>1.0</td>\n",
       "      <td>504.0</td>\n",
       "      <td>516.0</td>\n",
       "      <td>576</td>\n",
       "      <td>72</td>\n",
       "      <td>bogo</td>\n",
       "      <td>7</td>\n",
       "      <td>40</td>\n",
       "      <td>1.515456e+09</td>\n",
       "      <td>57000.0</td>\n",
       "      <td>0</td>\n",
       "      <td>0</td>\n",
       "      <td>1</td>\n",
       "    </tr>\n",
       "    <tr>\n",
       "      <th>3</th>\n",
       "      <td>0011e0d4e6b944f998e987f904e8c1e5</td>\n",
       "      <td>3f207df678b143eea3cee63160fa8bed</td>\n",
       "      <td>0.0</td>\n",
       "      <td>0.0</td>\n",
       "      <td>6.0</td>\n",
       "      <td>None</td>\n",
       "      <td>NaN</td>\n",
       "      <td>informational</td>\n",
       "      <td>4</td>\n",
       "      <td>40</td>\n",
       "      <td>1.515456e+09</td>\n",
       "      <td>57000.0</td>\n",
       "      <td>0</td>\n",
       "      <td>0</td>\n",
       "      <td>1</td>\n",
       "    </tr>\n",
       "    <tr>\n",
       "      <th>4</th>\n",
       "      <td>0011e0d4e6b944f998e987f904e8c1e5</td>\n",
       "      <td>5a8bc65990b245e5a138643cd4eb9837</td>\n",
       "      <td>0.0</td>\n",
       "      <td>336.0</td>\n",
       "      <td>354.0</td>\n",
       "      <td>None</td>\n",
       "      <td>NaN</td>\n",
       "      <td>informational</td>\n",
       "      <td>3</td>\n",
       "      <td>40</td>\n",
       "      <td>1.515456e+09</td>\n",
       "      <td>57000.0</td>\n",
       "      <td>0</td>\n",
       "      <td>0</td>\n",
       "      <td>1</td>\n",
       "    </tr>\n",
       "  </tbody>\n",
       "</table>\n",
       "</div>"
      ],
      "text/plain": [
       "                             person                          offer_id  \\\n",
       "0  0011e0d4e6b944f998e987f904e8c1e5  0b1e1539f2cc45b7b9fa7c272da2e1d7   \n",
       "1  0011e0d4e6b944f998e987f904e8c1e5  2298d6c36e964ae4a3e7e9706d1fb8c2   \n",
       "2  0011e0d4e6b944f998e987f904e8c1e5  9b98b8c7a33c4b65b9aebfe6a799e6d9   \n",
       "3  0011e0d4e6b944f998e987f904e8c1e5  3f207df678b143eea3cee63160fa8bed   \n",
       "4  0011e0d4e6b944f998e987f904e8c1e5  5a8bc65990b245e5a138643cd4eb9837   \n",
       "\n",
       "   offer_flag  offer_received_time  offer_viewed_time offer_completed_time  \\\n",
       "0         1.0                408.0              432.0                  576   \n",
       "1         1.0                168.0              186.0                  252   \n",
       "2         1.0                504.0              516.0                  576   \n",
       "3         0.0                  0.0                6.0                 None   \n",
       "4         0.0                336.0              354.0                 None   \n",
       "\n",
       "  offer_completed_duration     offer_type  duration  age  became_member_on  \\\n",
       "0                      168       discount        10   40      1.515456e+09   \n",
       "1                       84       discount         7   40      1.515456e+09   \n",
       "2                       72           bogo         7   40      1.515456e+09   \n",
       "3                      NaN  informational         4   40      1.515456e+09   \n",
       "4                      NaN  informational         3   40      1.515456e+09   \n",
       "\n",
       "    income  F  M  O  \n",
       "0  57000.0  0  0  1  \n",
       "1  57000.0  0  0  1  \n",
       "2  57000.0  0  0  1  \n",
       "3  57000.0  0  0  1  \n",
       "4  57000.0  0  0  1  "
      ]
     },
     "execution_count": 32,
     "metadata": {},
     "output_type": "execute_result"
    }
   ],
   "source": [
    "#turn gender into dummy variables\n",
    "offers_data=pd.concat([offers_df,pd.get_dummies(offers_df['gender'])],axis=1).drop(columns=['gender'])\n",
    "offers_data.head()"
   ]
  },
  {
   "cell_type": "code",
   "execution_count": 33,
   "metadata": {},
   "outputs": [
    {
     "data": {
      "text/plain": [
       "{'age': (18, 99),\n",
       " 'became_member_on': (1375056000.0, 1532563200.0),\n",
       " 'income': (30000.0, 120000.0)}"
      ]
     },
     "execution_count": 33,
     "metadata": {},
     "output_type": "execute_result"
    }
   ],
   "source": [
    "## find min max values for all numerical columns and saved in dictionary, which can be used for MinMaxScaler\n",
    "num_cols=['age','became_member_on','income']\n",
    "scaler_parameters={}\n",
    "for col in num_cols:\n",
    "    min_value=offers_data[col].min()\n",
    "    max_value=offers_data[col].max()\n",
    "    scaler_parameters[col]=(min_value,max_value)\n",
    "scaler_parameters    "
   ]
  },
  {
   "cell_type": "code",
   "execution_count": 34,
   "metadata": {
    "scrolled": false
   },
   "outputs": [
    {
     "data": {
      "text/html": [
       "<div>\n",
       "<style scoped>\n",
       "    .dataframe tbody tr th:only-of-type {\n",
       "        vertical-align: middle;\n",
       "    }\n",
       "\n",
       "    .dataframe tbody tr th {\n",
       "        vertical-align: top;\n",
       "    }\n",
       "\n",
       "    .dataframe thead th {\n",
       "        text-align: right;\n",
       "    }\n",
       "</style>\n",
       "<table border=\"1\" class=\"dataframe\">\n",
       "  <thead>\n",
       "    <tr style=\"text-align: right;\">\n",
       "      <th></th>\n",
       "      <th>person</th>\n",
       "      <th>offer_id</th>\n",
       "      <th>offer_flag</th>\n",
       "      <th>offer_received_time</th>\n",
       "      <th>offer_viewed_time</th>\n",
       "      <th>offer_completed_time</th>\n",
       "      <th>offer_completed_duration</th>\n",
       "      <th>offer_type</th>\n",
       "      <th>duration</th>\n",
       "      <th>age</th>\n",
       "      <th>became_member_on</th>\n",
       "      <th>income</th>\n",
       "      <th>F</th>\n",
       "      <th>M</th>\n",
       "      <th>O</th>\n",
       "    </tr>\n",
       "  </thead>\n",
       "  <tbody>\n",
       "    <tr>\n",
       "      <th>0</th>\n",
       "      <td>0011e0d4e6b944f998e987f904e8c1e5</td>\n",
       "      <td>0b1e1539f2cc45b7b9fa7c272da2e1d7</td>\n",
       "      <td>1.0</td>\n",
       "      <td>408.0</td>\n",
       "      <td>432.0</td>\n",
       "      <td>576</td>\n",
       "      <td>168</td>\n",
       "      <td>discount</td>\n",
       "      <td>10</td>\n",
       "      <td>0.271605</td>\n",
       "      <td>0.891388</td>\n",
       "      <td>0.3</td>\n",
       "      <td>0</td>\n",
       "      <td>0</td>\n",
       "      <td>1</td>\n",
       "    </tr>\n",
       "    <tr>\n",
       "      <th>1</th>\n",
       "      <td>0011e0d4e6b944f998e987f904e8c1e5</td>\n",
       "      <td>2298d6c36e964ae4a3e7e9706d1fb8c2</td>\n",
       "      <td>1.0</td>\n",
       "      <td>168.0</td>\n",
       "      <td>186.0</td>\n",
       "      <td>252</td>\n",
       "      <td>84</td>\n",
       "      <td>discount</td>\n",
       "      <td>7</td>\n",
       "      <td>0.271605</td>\n",
       "      <td>0.891388</td>\n",
       "      <td>0.3</td>\n",
       "      <td>0</td>\n",
       "      <td>0</td>\n",
       "      <td>1</td>\n",
       "    </tr>\n",
       "    <tr>\n",
       "      <th>2</th>\n",
       "      <td>0011e0d4e6b944f998e987f904e8c1e5</td>\n",
       "      <td>9b98b8c7a33c4b65b9aebfe6a799e6d9</td>\n",
       "      <td>1.0</td>\n",
       "      <td>504.0</td>\n",
       "      <td>516.0</td>\n",
       "      <td>576</td>\n",
       "      <td>72</td>\n",
       "      <td>bogo</td>\n",
       "      <td>7</td>\n",
       "      <td>0.271605</td>\n",
       "      <td>0.891388</td>\n",
       "      <td>0.3</td>\n",
       "      <td>0</td>\n",
       "      <td>0</td>\n",
       "      <td>1</td>\n",
       "    </tr>\n",
       "    <tr>\n",
       "      <th>3</th>\n",
       "      <td>0011e0d4e6b944f998e987f904e8c1e5</td>\n",
       "      <td>3f207df678b143eea3cee63160fa8bed</td>\n",
       "      <td>0.0</td>\n",
       "      <td>0.0</td>\n",
       "      <td>6.0</td>\n",
       "      <td>None</td>\n",
       "      <td>NaN</td>\n",
       "      <td>informational</td>\n",
       "      <td>4</td>\n",
       "      <td>0.271605</td>\n",
       "      <td>0.891388</td>\n",
       "      <td>0.3</td>\n",
       "      <td>0</td>\n",
       "      <td>0</td>\n",
       "      <td>1</td>\n",
       "    </tr>\n",
       "    <tr>\n",
       "      <th>4</th>\n",
       "      <td>0011e0d4e6b944f998e987f904e8c1e5</td>\n",
       "      <td>5a8bc65990b245e5a138643cd4eb9837</td>\n",
       "      <td>0.0</td>\n",
       "      <td>336.0</td>\n",
       "      <td>354.0</td>\n",
       "      <td>None</td>\n",
       "      <td>NaN</td>\n",
       "      <td>informational</td>\n",
       "      <td>3</td>\n",
       "      <td>0.271605</td>\n",
       "      <td>0.891388</td>\n",
       "      <td>0.3</td>\n",
       "      <td>0</td>\n",
       "      <td>0</td>\n",
       "      <td>1</td>\n",
       "    </tr>\n",
       "  </tbody>\n",
       "</table>\n",
       "</div>"
      ],
      "text/plain": [
       "                             person                          offer_id  \\\n",
       "0  0011e0d4e6b944f998e987f904e8c1e5  0b1e1539f2cc45b7b9fa7c272da2e1d7   \n",
       "1  0011e0d4e6b944f998e987f904e8c1e5  2298d6c36e964ae4a3e7e9706d1fb8c2   \n",
       "2  0011e0d4e6b944f998e987f904e8c1e5  9b98b8c7a33c4b65b9aebfe6a799e6d9   \n",
       "3  0011e0d4e6b944f998e987f904e8c1e5  3f207df678b143eea3cee63160fa8bed   \n",
       "4  0011e0d4e6b944f998e987f904e8c1e5  5a8bc65990b245e5a138643cd4eb9837   \n",
       "\n",
       "   offer_flag  offer_received_time  offer_viewed_time offer_completed_time  \\\n",
       "0         1.0                408.0              432.0                  576   \n",
       "1         1.0                168.0              186.0                  252   \n",
       "2         1.0                504.0              516.0                  576   \n",
       "3         0.0                  0.0                6.0                 None   \n",
       "4         0.0                336.0              354.0                 None   \n",
       "\n",
       "  offer_completed_duration     offer_type  duration       age  \\\n",
       "0                      168       discount        10  0.271605   \n",
       "1                       84       discount         7  0.271605   \n",
       "2                       72           bogo         7  0.271605   \n",
       "3                      NaN  informational         4  0.271605   \n",
       "4                      NaN  informational         3  0.271605   \n",
       "\n",
       "   became_member_on  income  F  M  O  \n",
       "0          0.891388     0.3  0  0  1  \n",
       "1          0.891388     0.3  0  0  1  \n",
       "2          0.891388     0.3  0  0  1  \n",
       "3          0.891388     0.3  0  0  1  \n",
       "4          0.891388     0.3  0  0  1  "
      ]
     },
     "execution_count": 34,
     "metadata": {},
     "output_type": "execute_result"
    }
   ],
   "source": [
    "## Write a MinMaxScalter function to do normalization for all numerical columns\n",
    "def MinMaxScaler(value,min_value,max_value):\n",
    "    '''Normalize the value linearly to adj_value, which is from 0 to 1 '''\n",
    "    if value <= min_value:\n",
    "        adj_value=0\n",
    "    elif value >= max_value:\n",
    "        adj_value=1\n",
    "    else:\n",
    "        adj_value=(value - min_value)/(max_value - min_value)\n",
    "    return adj_value  \n",
    "\n",
    "for col in num_cols:\n",
    "    min_value=scaler_parameters[col][0]\n",
    "    max_value=scaler_parameters[col][1]\n",
    "    offers_data[col]=offers_data[col].apply(MinMaxScaler, args=(min_value,max_value))\n",
    "offers_data.head()"
   ]
  },
  {
   "cell_type": "code",
   "execution_count": 39,
   "metadata": {},
   "outputs": [
    {
     "data": {
      "text/html": [
       "<div>\n",
       "<style scoped>\n",
       "    .dataframe tbody tr th:only-of-type {\n",
       "        vertical-align: middle;\n",
       "    }\n",
       "\n",
       "    .dataframe tbody tr th {\n",
       "        vertical-align: top;\n",
       "    }\n",
       "\n",
       "    .dataframe thead th {\n",
       "        text-align: right;\n",
       "    }\n",
       "</style>\n",
       "<table border=\"1\" class=\"dataframe\">\n",
       "  <thead>\n",
       "    <tr style=\"text-align: right;\">\n",
       "      <th></th>\n",
       "      <th>person</th>\n",
       "      <th>offer_id</th>\n",
       "      <th>offer_flag</th>\n",
       "      <th>age</th>\n",
       "      <th>became_member_on</th>\n",
       "      <th>income</th>\n",
       "      <th>F</th>\n",
       "      <th>M</th>\n",
       "      <th>O</th>\n",
       "    </tr>\n",
       "  </thead>\n",
       "  <tbody>\n",
       "    <tr>\n",
       "      <th>0</th>\n",
       "      <td>0011e0d4e6b944f998e987f904e8c1e5</td>\n",
       "      <td>0b1e1539f2cc45b7b9fa7c272da2e1d7</td>\n",
       "      <td>1.0</td>\n",
       "      <td>0.271605</td>\n",
       "      <td>0.891388</td>\n",
       "      <td>0.3</td>\n",
       "      <td>0</td>\n",
       "      <td>0</td>\n",
       "      <td>1</td>\n",
       "    </tr>\n",
       "    <tr>\n",
       "      <th>1</th>\n",
       "      <td>0011e0d4e6b944f998e987f904e8c1e5</td>\n",
       "      <td>2298d6c36e964ae4a3e7e9706d1fb8c2</td>\n",
       "      <td>1.0</td>\n",
       "      <td>0.271605</td>\n",
       "      <td>0.891388</td>\n",
       "      <td>0.3</td>\n",
       "      <td>0</td>\n",
       "      <td>0</td>\n",
       "      <td>1</td>\n",
       "    </tr>\n",
       "    <tr>\n",
       "      <th>2</th>\n",
       "      <td>0011e0d4e6b944f998e987f904e8c1e5</td>\n",
       "      <td>9b98b8c7a33c4b65b9aebfe6a799e6d9</td>\n",
       "      <td>1.0</td>\n",
       "      <td>0.271605</td>\n",
       "      <td>0.891388</td>\n",
       "      <td>0.3</td>\n",
       "      <td>0</td>\n",
       "      <td>0</td>\n",
       "      <td>1</td>\n",
       "    </tr>\n",
       "    <tr>\n",
       "      <th>3</th>\n",
       "      <td>0011e0d4e6b944f998e987f904e8c1e5</td>\n",
       "      <td>3f207df678b143eea3cee63160fa8bed</td>\n",
       "      <td>0.0</td>\n",
       "      <td>0.271605</td>\n",
       "      <td>0.891388</td>\n",
       "      <td>0.3</td>\n",
       "      <td>0</td>\n",
       "      <td>0</td>\n",
       "      <td>1</td>\n",
       "    </tr>\n",
       "    <tr>\n",
       "      <th>4</th>\n",
       "      <td>0011e0d4e6b944f998e987f904e8c1e5</td>\n",
       "      <td>5a8bc65990b245e5a138643cd4eb9837</td>\n",
       "      <td>0.0</td>\n",
       "      <td>0.271605</td>\n",
       "      <td>0.891388</td>\n",
       "      <td>0.3</td>\n",
       "      <td>0</td>\n",
       "      <td>0</td>\n",
       "      <td>1</td>\n",
       "    </tr>\n",
       "  </tbody>\n",
       "</table>\n",
       "</div>"
      ],
      "text/plain": [
       "                             person                          offer_id  \\\n",
       "0  0011e0d4e6b944f998e987f904e8c1e5  0b1e1539f2cc45b7b9fa7c272da2e1d7   \n",
       "1  0011e0d4e6b944f998e987f904e8c1e5  2298d6c36e964ae4a3e7e9706d1fb8c2   \n",
       "2  0011e0d4e6b944f998e987f904e8c1e5  9b98b8c7a33c4b65b9aebfe6a799e6d9   \n",
       "3  0011e0d4e6b944f998e987f904e8c1e5  3f207df678b143eea3cee63160fa8bed   \n",
       "4  0011e0d4e6b944f998e987f904e8c1e5  5a8bc65990b245e5a138643cd4eb9837   \n",
       "\n",
       "   offer_flag       age  became_member_on  income  F  M  O  \n",
       "0         1.0  0.271605          0.891388     0.3  0  0  1  \n",
       "1         1.0  0.271605          0.891388     0.3  0  0  1  \n",
       "2         1.0  0.271605          0.891388     0.3  0  0  1  \n",
       "3         0.0  0.271605          0.891388     0.3  0  0  1  \n",
       "4         0.0  0.271605          0.891388     0.3  0  0  1  "
      ]
     },
     "execution_count": 39,
     "metadata": {},
     "output_type": "execute_result"
    }
   ],
   "source": [
    "offers_data[['person','offer_id','offer_flag','age','became_member_on','income','F','M','O']].head()"
   ]
  },
  {
   "cell_type": "code",
   "execution_count": 35,
   "metadata": {},
   "outputs": [],
   "source": [
    "##extract data for each type of offer\n",
    "bogo_data=offers_data[offers_data['offer_type']=='bogo']\n",
    "discount_data=offers_data[offers_data['offer_type']=='discount']\n",
    "info_data=offers_data[offers_data['offer_type']=='informational']"
   ]
  },
  {
   "cell_type": "code",
   "execution_count": 36,
   "metadata": {},
   "outputs": [],
   "source": [
    "X_bogo=bogo_data[['age','became_member_on','income','F','M','O']]\n",
    "Y_bogo=bogo_data['offer_flag'].values\n",
    "X_discount=discount_data[['age','became_member_on','income','F','M','O']]\n",
    "Y_discount=discount_data['offer_flag'].values"
   ]
  },
  {
   "cell_type": "code",
   "execution_count": 37,
   "metadata": {},
   "outputs": [],
   "source": [
    "X_bogo_train, X_bogo_test, Y_bogo_train, Y_bogo_test = train_test_split(X_bogo, Y_bogo, test_size=0.3, random_state=42)\n",
    "X_discount_train, X_discount_test, Y_discount_train, Y_discount_test = train_test_split(X_discount, Y_discount, test_size=0.3, random_state=42)"
   ]
  },
  {
   "cell_type": "markdown",
   "metadata": {},
   "source": [
    "### 2.2 Model Selection"
   ]
  },
  {
   "cell_type": "code",
   "execution_count": 40,
   "metadata": {},
   "outputs": [],
   "source": [
    "from time import time\n",
    "def train_predict(learner, X_train, Y_train, X_test, Y_test): \n",
    "    '''\n",
    "    inputs:\n",
    "       - learner: the learning algorithm to be trained and predicted on\n",
    "       - X_train: features training set\n",
    "       - Y_train: offer_flag training set\n",
    "       - X_test: features testing set\n",
    "       - Y_test: offer_flag testing set\n",
    "    ouputs:\n",
    "       dictionary contains performance results\n",
    "    '''   \n",
    "    results = {}\n",
    "    start = time() # Get start time\n",
    "    learner = learner\n",
    "    learner.fit(X_train,Y_train)\n",
    "    end = time() # Get end time\n",
    "    results['train_time'] = end -start    # Calculate the training time\n",
    "    \n",
    "    #  Get the predictions on the test set and train set\n",
    "    start = time() # Get start time\n",
    "    predictions_test = learner.predict(X_test)\n",
    "    predictions_train = learner.predict(X_train)\n",
    "    end = time() # Get end time   \n",
    "    results['pred_time'] = end-start # Calculate the total prediction time\n",
    "    \n",
    "    # Compute F-score on the the Y_train\n",
    "    results['f_train'] = fbeta_score(Y_train,predictions_train,beta=0.5)    \n",
    "    # Compute F-score on the test set which is Y_test\n",
    "    results['f_test'] = fbeta_score(Y_test,predictions_test,beta=0.5)\n",
    "    \n",
    "    return results"
   ]
  },
  {
   "cell_type": "code",
   "execution_count": null,
   "metadata": {},
   "outputs": [],
   "source": []
  },
  {
   "cell_type": "code",
   "execution_count": 41,
   "metadata": {},
   "outputs": [],
   "source": [
    "###for results for three candidate models\n",
    "clf_A = LogisticRegression(random_state=0)\n",
    "clf_B = svm.SVC(random_state=0)\n",
    "clf_C = GradientBoostingClassifier(random_state=0)\n",
    "all_clf=[clf_A,clf_B,clf_C]\n",
    "bogo_results_dict={}\n",
    "discount_results_dict={}\n",
    "for clf in all_clf:\n",
    "    bogo_results=train_predict(clf, X_bogo_train, Y_bogo_train, X_bogo_test, Y_bogo_test)\n",
    "    bogo_results_dict[clf.__class__.__name__]=bogo_results\n",
    "    \n",
    "    discount_results=train_predict(clf, X_discount_train, Y_discount_train, X_discount_test, Y_discount_test)\n",
    "    discount_results_dict[clf.__class__.__name__]=discount_results\n",
    "    "
   ]
  },
  {
   "cell_type": "code",
   "execution_count": 42,
   "metadata": {},
   "outputs": [
    {
     "data": {
      "text/plain": [
       "{'LogisticRegression': {'train_time': 0.033255815505981445,\n",
       "  'pred_time': 0.0010960102081298828,\n",
       "  'f_train': 0.67931362223535152,\n",
       "  'f_test': 0.66918886198547212},\n",
       " 'SVC': {'train_time': 8.565633535385132,\n",
       "  'pred_time': 7.012171983718872,\n",
       "  'f_train': 0.69324463375529444,\n",
       "  'f_test': 0.67853947662715286},\n",
       " 'GradientBoostingClassifier': {'train_time': 0.6195399761199951,\n",
       "  'pred_time': 0.033616065979003906,\n",
       "  'f_train': 0.74288958431415997,\n",
       "  'f_test': 0.72358247422680411}}"
      ]
     },
     "execution_count": 42,
     "metadata": {},
     "output_type": "execute_result"
    }
   ],
   "source": [
    "bogo_results_dict"
   ]
  },
  {
   "cell_type": "code",
   "execution_count": 43,
   "metadata": {
    "scrolled": true
   },
   "outputs": [
    {
     "data": {
      "text/plain": [
       "{'LogisticRegression': {'train_time': 0.022181034088134766,\n",
       "  'pred_time': 0.0010499954223632812,\n",
       "  'f_train': 0.78273742212718722,\n",
       "  'f_test': 0.7750599520383693},\n",
       " 'SVC': {'train_time': 5.302253246307373,\n",
       "  'pred_time': 3.9022133350372314,\n",
       "  'f_train': 0.75095736299173643,\n",
       "  'f_test': 0.74376980388798497},\n",
       " 'GradientBoostingClassifier': {'train_time': 0.5193328857421875,\n",
       "  'pred_time': 0.027169227600097656,\n",
       "  'f_train': 0.81412119982872477,\n",
       "  'f_test': 0.79305453399180414}}"
      ]
     },
     "execution_count": 43,
     "metadata": {},
     "output_type": "execute_result"
    }
   ],
   "source": [
    "discount_results_dict"
   ]
  },
  {
   "cell_type": "code",
   "execution_count": 92,
   "metadata": {},
   "outputs": [],
   "source": [
    "def plot_performance_result(results_dict,offer_type):\n",
    "    models=['LogisticRegression', 'SVC', 'GradientBoostingClassifier']\n",
    "    lr_train_time=results_dict['LogisticRegression']['train_time']\n",
    "    lr_pred_time=results_dict['LogisticRegression']['pred_time']\n",
    "    lr_f_train=results_dict['LogisticRegression']['f_train']\n",
    "    lr_f_test=results_dict['LogisticRegression']['f_test']\n",
    "\n",
    "    svc_train_time=results_dict['SVC']['train_time']\n",
    "    svc_pred_time=results_dict['SVC']['pred_time']\n",
    "    svc_f_train=results_dict['SVC']['f_train']\n",
    "    svc_f_test=results_dict['SVC']['f_test']\n",
    "\n",
    "    gbc_train_time=results_dict['GradientBoostingClassifier']['train_time']\n",
    "    gbc_pred_time=results_dict['GradientBoostingClassifier']['pred_time']\n",
    "    gbc_f_train=results_dict['GradientBoostingClassifier']['f_train']\n",
    "    gbc_f_test=results_dict['GradientBoostingClassifier']['f_test']\n",
    "\n",
    "\n",
    "\n",
    "    fig=plt.figure(figsize=(20,6))\n",
    "    barWidth = 0.5\n",
    "\n",
    "    plt.subplot(1,4,1)\n",
    "    plt.bar(0, lr_train_time, color='red', width=barWidth, edgecolor='white', label=models[0])\n",
    "    plt.bar(1, svc_train_time, color='orange', width=barWidth, edgecolor='white', label=models[1])\n",
    "    plt.bar(2, gbc_train_time, color='green', width=barWidth, edgecolor='white', label=models[2])\n",
    "    plt.ylim([0,10])\n",
    "    plt.title('Model Training Time')\n",
    "    plt.xticks([0,1,2],models)\n",
    "\n",
    "    plt.subplot(1,4,2)\n",
    "    plt.bar(0, lr_pred_time, color='red', width=barWidth, edgecolor='white', label=models[0])\n",
    "    plt.bar(1, svc_pred_time, color='orange', width=barWidth, edgecolor='white', label=models[1])\n",
    "    plt.bar(2, gbc_pred_time, color='green', width=barWidth, edgecolor='white', label=models[2])\n",
    "    plt.ylim([0,10])\n",
    "    plt.title('Model Predicting Time')\n",
    "    plt.xticks([0,1,2],models)\n",
    "\n",
    "    plt.subplot(1,4,3)\n",
    "    plt.bar(0, lr_f_train, color='red', width=barWidth, edgecolor='white', label=models[0])\n",
    "    plt.bar(1, svc_f_train, color='orange', width=barWidth, edgecolor='white', label=models[1])\n",
    "    plt.bar(2, gbc_f_train, color='green', width=barWidth, edgecolor='white', label=models[2])\n",
    "    plt.ylim([0,1])\n",
    "    plt.title('F-Score on Training Set')\n",
    "    plt.xticks([0,1,2],models)\n",
    "\n",
    "    plt.subplot(1,4,4)\n",
    "    plt.bar(0, lr_f_test, color='red', width=barWidth, edgecolor='white', label=models[0])\n",
    "    plt.bar(1, svc_f_test, color='orange', width=barWidth, edgecolor='white', label=models[1])\n",
    "    plt.bar(2, gbc_f_test, color='green', width=barWidth, edgecolor='white', label=models[2])\n",
    "    plt.ylim([0,1])\n",
    "    plt.title('F-Score on Testing Set')\n",
    "    plt.xticks([0,1,2],models)\n",
    "    fig.suptitle('Performance Results for Candidate Models for Offer Type: '+offer_type,fontsize=20)\n"
   ]
  },
  {
   "cell_type": "code",
   "execution_count": 93,
   "metadata": {},
   "outputs": [
    {
     "data": {
      "image/png": "[encoded data removed]",
      "text/plain": [
       "<matplotlib.figure.Figure at 0x7f31519f4f60>"
      ]
     },
     "metadata": {
      "needs_background": "light"
     },
     "output_type": "display_data"
    }
   ],
   "source": [
    "plot_performance_result(bogo_results_dict,'BOGO')"
   ]
  },
  {
   "cell_type": "code",
   "execution_count": 94,
   "metadata": {
    "scrolled": true
   },
   "outputs": [
    {
     "data": {
      "image/png": "[encoded data removed]",
      "text/plain": [
       "<matplotlib.figure.Figure at 0x7f3151941e80>"
      ]
     },
     "metadata": {
      "needs_background": "light"
     },
     "output_type": "display_data"
    }
   ],
   "source": [
    "plot_performance_result(discount_results_dict,'Discount')"
   ]
  },
  {
   "cell_type": "markdown",
   "metadata": {},
   "source": [
    "### 2.3 Parameter Tuning "
   ]
  },
  {
   "cell_type": "code",
   "execution_count": 97,
   "metadata": {},
   "outputs": [],
   "source": [
    "parameters = {'loss' : ['deviance', 'exponential'],\n",
    "              'learning_rate':[0.05,0.1,0.15],\n",
    "              'n_estimators':[100,150],\n",
    "              'min_samples_split':[2,5,10],\n",
    "              'max_depth':[3,4,5]}\n",
    "scorer = make_scorer(fbeta_score,beta=0.5)"
   ]
  },
  {
   "cell_type": "code",
   "execution_count": 98,
   "metadata": {},
   "outputs": [
    {
     "data": {
      "text/plain": [
       "GridSearchCV(cv=5, error_score='raise',\n",
       "       estimator=GradientBoostingClassifier(criterion='friedman_mse', init=None,\n",
       "              learning_rate=0.1, loss='deviance', max_depth=3,\n",
       "              max_features=None, max_leaf_nodes=None,\n",
       "              min_impurity_decrease=0.0, min_impurity_split=None,\n",
       "              min_samples_leaf=1, min_samples_split=2,\n",
       "              min_weight_fraction_leaf=0.0, n_estimators=100,\n",
       "              presort='auto', random_state=0, subsample=1.0, verbose=0,\n",
       "              warm_start=False),\n",
       "       fit_params=None, iid=True, n_jobs=1,\n",
       "       param_grid={'loss': ['deviance', 'exponential'], 'learning_rate': [0.05, 0.1, 0.15], 'n_estimators': [100, 150], 'min_samples_split': [2, 5, 10], 'max_depth': [3, 4, 5]},\n",
       "       pre_dispatch='2*n_jobs', refit=True, return_train_score='warn',\n",
       "       scoring=make_scorer(fbeta_score, beta=0.5), verbose=0)"
      ]
     },
     "execution_count": 98,
     "metadata": {},
     "output_type": "execute_result"
    }
   ],
   "source": [
    "default_model=GradientBoostingClassifier(random_state=0)\n",
    "bogo_clf = GridSearchCV(default_model, parameters, cv=5,scoring=scorer)\n",
    "bogo_clf.fit(X_bogo, Y_bogo)"
   ]
  },
  {
   "cell_type": "code",
   "execution_count": 99,
   "metadata": {},
   "outputs": [
    {
     "name": "stdout",
     "output_type": "stream",
     "text": [
      "The best parameter for bogo is:  {'learning_rate': 0.05, 'loss': 'exponential', 'max_depth': 4, 'min_samples_split': 5, 'n_estimators': 100}\n",
      "The best accuracy for bogo is:  0.723828178601\n"
     ]
    }
   ],
   "source": [
    "bogo_best_model=bogo_clf.best_estimator_\n",
    "bogo_best_params=bogo_clf.best_params_\n",
    "bogo_best_score=bogo_clf.best_score_\n",
    "print ('The best parameter for bogo is: ',bogo_best_params)\n",
    "print ('The best accuracy for bogo is: ',bogo_best_score)"
   ]
  },
  {
   "cell_type": "code",
   "execution_count": 100,
   "metadata": {},
   "outputs": [
    {
     "data": {
      "text/plain": [
       "GridSearchCV(cv=5, error_score='raise',\n",
       "       estimator=GradientBoostingClassifier(criterion='friedman_mse', init=None,\n",
       "              learning_rate=0.1, loss='deviance', max_depth=3,\n",
       "              max_features=None, max_leaf_nodes=None,\n",
       "              min_impurity_decrease=0.0, min_impurity_split=None,\n",
       "              min_samples_leaf=1, min_samples_split=2,\n",
       "              min_weight_fraction_leaf=0.0, n_estimators=100,\n",
       "              presort='auto', random_state=0, subsample=1.0, verbose=0,\n",
       "              warm_start=False),\n",
       "       fit_params=None, iid=True, n_jobs=1,\n",
       "       param_grid={'loss': ['deviance', 'exponential'], 'learning_rate': [0.05, 0.1, 0.15], 'n_estimators': [100, 150], 'min_samples_split': [2, 5, 10], 'max_depth': [3, 4, 5]},\n",
       "       pre_dispatch='2*n_jobs', refit=True, return_train_score='warn',\n",
       "       scoring=make_scorer(fbeta_score, beta=0.5), verbose=0)"
      ]
     },
     "execution_count": 100,
     "metadata": {},
     "output_type": "execute_result"
    }
   ],
   "source": [
    "default_model=GradientBoostingClassifier(random_state=0)\n",
    "discount_clf = GridSearchCV(default_model, parameters, cv=5,scoring=scorer)\n",
    "discount_clf.fit(X_discount, Y_discount)"
   ]
  },
  {
   "cell_type": "code",
   "execution_count": 101,
   "metadata": {
    "scrolled": false
   },
   "outputs": [
    {
     "name": "stdout",
     "output_type": "stream",
     "text": [
      "The best parameter for discount is:  {'learning_rate': 0.05, 'loss': 'deviance', 'max_depth': 3, 'min_samples_split': 5, 'n_estimators': 150}\n",
      "The best accuracy for discount is:  0.798247674673\n"
     ]
    }
   ],
   "source": [
    "discount_best_model=discount_clf.best_estimator_\n",
    "discount_best_params=discount_clf.best_params_\n",
    "discount_best_score=discount_clf.best_score_\n",
    "print ('The best parameter for discount is: ',discount_best_params)\n",
    "print ('The best accuracy for discount is: ',discount_best_score)"
   ]
  },
  {
   "cell_type": "markdown",
   "metadata": {},
   "source": [
    "### 2.4 Model Saving"
   ]
  },
  {
   "cell_type": "code",
   "execution_count": 5,
   "metadata": {},
   "outputs": [],
   "source": [
    "from sklearn.externals import joblib\n",
    "joblib.dump(bogo_best_model, 'bogo_model.pkl') \n",
    "joblib.dump(discount_best_model, 'discount_model.pkl') "
   ]
  },
  {
   "cell_type": "code",
   "execution_count": null,
   "metadata": {},
   "outputs": [],
   "source": []
  },
  {
   "cell_type": "markdown",
   "metadata": {},
   "source": [
    "## 3. Strategy Design"
   ]
  },
  {
   "cell_type": "code",
   "execution_count": 1,
   "metadata": {},
   "outputs": [],
   "source": [
    "from sklearn.externals import joblib\n",
    "bogo_model = joblib.load('bogo_model.pkl')\n",
    "discount_model = joblib.load('discount_model.pkl')"
   ]
  },
  {
   "cell_type": "code",
   "execution_count": 67,
   "metadata": {},
   "outputs": [],
   "source": [
    "scaler_parameters={'age': (18, 99),\n",
    " 'became_member_on': (1375056000.0, 1532563200.0),\n",
    " 'income': (30000.0, 120000.0)}"
   ]
  },
  {
   "cell_type": "code",
   "execution_count": 63,
   "metadata": {},
   "outputs": [],
   "source": [
    "def strategy(age,became_member_on,gender,income,scaler_parameters=scaler_parameters,bogo_model=bogo_model,discount_model=discount_model):\n",
    "    def MinMaxScaler(value,min_value,max_value):   \n",
    "        if value <= min_value:\n",
    "            adj_value=0\n",
    "        elif value >= max_value:\n",
    "            adj_value=1\n",
    "        else:\n",
    "            adj_value=(value - min_value)/(max_value - min_value)\n",
    "        return adj_value \n",
    "    age=MinMaxScaler(age,scaler_parameters['age'][0],scaler_parameters['age'][1])\n",
    "    became_member_on=transform_time(became_member_on)\n",
    "    became_member_on=MinMaxScaler(became_member_on,scaler_parameters['became_member_on'][0],scaler_parameters['became_member_on'][1])\n",
    "    income=MinMaxScaler(income,scaler_parameters['income'][0],scaler_parameters['income'][1])\n",
    "    profile_record={'age':[age],'became_member_on':[became_member_on],'income':[income],'F':[0],'M':[0],'O':[0]}\n",
    "    profile_record[gender]=[1]             \n",
    "    profile_df=pd.DataFrame.from_dict(profile_record)\n",
    "    bogo_flag=bogo_model.predict(profile_df)[0]\n",
    "    discount_flag=discount_model.predict(profile_df)[0]\n",
    "    if bogo_flag ==1 and discount_flag == 1:\n",
    "        print ('This person can be provided with offer type bogo, discount and informational')\n",
    "    elif bogo_flag ==1 and discount_flag ==0:\n",
    "        print ('This person can be provided with offer type bogo and informational')\n",
    "    elif bogo_flag ==0 and discount_flag ==1:\n",
    "        print ('This person can be provided with offer type discount and informational')\n",
    "    else:\n",
    "        print ('This person can be provided with offer type informational')\n",
    "    pass\n",
    "    "
   ]
  },
  {
   "cell_type": "code",
   "execution_count": 65,
   "metadata": {},
   "outputs": [
    {
     "name": "stdout",
     "output_type": "stream",
     "text": [
      "This person can be provided with offer type discount and informational\n"
     ]
    }
   ],
   "source": [
    "age = 50\n",
    "became_member_on=20170315\n",
    "gender='M'\n",
    "income=40000\n",
    "\n",
    "strategy(age,became_member_on,gender,income)"
   ]
  },
  {
   "cell_type": "code",
   "execution_count": 70,
   "metadata": {},
   "outputs": [
    {
     "name": "stdout",
     "output_type": "stream",
     "text": [
      "This person can be provided with offer type bogo, discount and informational\n"
     ]
    }
   ],
   "source": [
    "age = 35\n",
    "became_member_on=20160530\n",
    "gender='F'\n",
    "income=80000\n",
    "\n",
    "strategy(age,became_member_on,gender,income)"
   ]
  },
  {
   "cell_type": "code",
   "execution_count": null,
   "metadata": {},
   "outputs": [],
   "source": []
  }
 ],
 "metadata": {
  "kernelspec": {
   "display_name": "Python 3",
   "language": "python",
   "name": "python3"
  },
  "language_info": {
   "codemirror_mode": {
    "name": "ipython",
    "version": 3
   },
   "file_extension": ".py",
   "mimetype": "text/x-python",
   "name": "python",
   "nbconvert_exporter": "python",
   "pygments_lexer": "ipython3",
   "version": "3.6.3"
  }
 },
 "nbformat": 4,
 "nbformat_minor": 2
}
